{
  "nbformat": 4,
  "nbformat_minor": 0,
  "metadata": {
    "colab": {
      "provenance": [],
      "include_colab_link": true
    },
    "kernelspec": {
      "name": "python3",
      "display_name": "Python 3"
    }
  },
  "cells": [
    {
      "cell_type": "markdown",
      "metadata": {
        "id": "view-in-github",
        "colab_type": "text"
      },
      "source": [
        "<a href=\"https://colab.research.google.com/github/Amy737101/Data-Analysis-on-under-5-child-mortality-using-Decision-Tree-Random-Forest-SVM-Logistic-Regression/blob/main/child_mortality_data_anlaysis(_all_variable_and_8_imp_risk_factor).ipynb\" target=\"_parent\"><img src=\"https://colab.research.google.com/assets/colab-badge.svg\" alt=\"Open In Colab\"/></a>"
      ]
    },
    {
      "cell_type": "markdown",
      "metadata": {
        "id": "fmAofehHXSIA"
      },
      "source": [
        "Child mortality data analysis\n"
      ]
    },
    {
      "cell_type": "code",
      "metadata": {
        "id": "t434sfNxYDr6"
      },
      "source": [
        "# import neccesary packages used for processing and analysis\n",
        "\n",
        "import pandas as pd\n",
        "import numpy as np\n",
        "import seaborn as sns  # data vizualization tool\n",
        "\n",
        "import matplotlib.pyplot as plt\n"
      ],
      "execution_count": null,
      "outputs": []
    },
    {
      "cell_type": "code",
      "metadata": {
        "id": "hC3hGPEoXPr8"
      },
      "source": [
        "# path of the data stored in drive\n",
        "data = pd.read_excel(r\"/content/nehafile1.xls\")\n",
        "data\n"
      ],
      "execution_count": null,
      "outputs": []
    },
    {
      "cell_type": "code",
      "metadata": {
        "id": "ooHYwZs-XYVx",
        "colab": {
          "base_uri": "https://localhost:8080/"
        },
        "outputId": "e7acdd09-a6d5-4fde-87fb-244d0bceed51"
      },
      "source": [
        "# read the data file\n",
        "df=pd.read_excel(r\"/content/nehafile1.xls\")\n",
        "print(df.head())\n",
        "print(df.shape)"
      ],
      "execution_count": null,
      "outputs": [
        {
          "output_type": "stream",
          "name": "stdout",
          "text": [
            "  Educational level Age of respondent at 1st birth  ... Caste Time\n",
            "0         Secondary                      20-35 Yrs  ...   OBC   44\n",
            "1         Secondary                      20-35 Yrs  ...   OBC   56\n",
            "2      No education                      20-35 Yrs  ...   OBC   11\n",
            "3      No education                      20-35 Yrs  ...   OBC   45\n",
            "4         Secondary                      20-35 Yrs  ...   OBC    3\n",
            "\n",
            "[5 rows x 19 columns]\n",
            "(41751, 19)\n"
          ]
        }
      ]
    },
    {
      "cell_type": "code",
      "metadata": {
        "id": "frBJhQpRaIDk",
        "colab": {
          "base_uri": "https://localhost:8080/"
        },
        "outputId": "353dee03-3707-4c80-ca51-be6ac4cbdb01"
      },
      "source": [
        "df.columns"
      ],
      "execution_count": null,
      "outputs": [
        {
          "output_type": "execute_result",
          "data": {
            "text/plain": [
              "Index(['Educational level', 'Age of respondent at 1st birth',\n",
              "       'Currentlybreastfeeding', 'Desireformorechildren', 'Exposure',\n",
              "       'Respondentcurrentlyworking', 'Sexofchild', 'Child status',\n",
              "       'Placeofdelivery', 'Sizeofchildatbirth', 'ANC', 'Birthorder',\n",
              "       'Respondentplaceofresidence', 'Religion', 'WealthIndex',\n",
              "       'Anymediaexposure', 'Birthinterval', 'Caste', 'Time'],\n",
              "      dtype='object')"
            ]
          },
          "metadata": {},
          "execution_count": 26
        }
      ]
    },
    {
      "cell_type": "code",
      "metadata": {
        "id": "tQA-A7-fitxZ",
        "colab": {
          "base_uri": "https://localhost:8080/"
        },
        "outputId": "01e752d3-32a9-444b-e515-74bc68d13d19"
      },
      "source": [
        "# checking the null values in the dataset\n",
        "df.isnull().sum()"
      ],
      "execution_count": null,
      "outputs": [
        {
          "output_type": "execute_result",
          "data": {
            "text/plain": [
              "Educational level                     0\n",
              "Age of respondent at 1st birth        0\n",
              "Currentlybreastfeeding                0\n",
              "Desireformorechildren                15\n",
              "Exposure                              0\n",
              "Respondentcurrentlyworking        35045\n",
              "Sexofchild                            0\n",
              "Child status                          0\n",
              "Placeofdelivery                       4\n",
              "Sizeofchildatbirth                    4\n",
              "ANC                                   0\n",
              "Birthorder                            0\n",
              "Respondentplaceofresidence            0\n",
              "Religion                              0\n",
              "WealthIndex                           0\n",
              "Anymediaexposure                      0\n",
              "Birthinterval                     12932\n",
              "Caste                               116\n",
              "Time                                  0\n",
              "dtype: int64"
            ]
          },
          "metadata": {},
          "execution_count": 19
        }
      ]
    },
    {
      "cell_type": "code",
      "metadata": {
        "id": "7eSRzvxnf445",
        "colab": {
          "base_uri": "https://localhost:8080/"
        },
        "outputId": "0263556a-7854-4f1c-b955-b81c717aba87"
      },
      "source": [
        "# drop the columns with null values(maximum)\n",
        "df1=df.drop (['Respondentcurrentlyworking', 'Birthinterval'], axis=1)\n",
        "print(df1.head())\n",
        "print(df1.shape)"
      ],
      "execution_count": null,
      "outputs": [
        {
          "output_type": "stream",
          "name": "stdout",
          "text": [
            "  Educational level Age of respondent at 1st birth  ... Caste Time\n",
            "0         Secondary                      20-35 Yrs  ...   OBC   44\n",
            "1         Secondary                      20-35 Yrs  ...   OBC   56\n",
            "2      No education                      20-35 Yrs  ...   OBC   11\n",
            "3      No education                      20-35 Yrs  ...   OBC   45\n",
            "4         Secondary                      20-35 Yrs  ...   OBC    3\n",
            "\n",
            "[5 rows x 17 columns]\n",
            "(41751, 17)\n"
          ]
        }
      ]
    },
    {
      "cell_type": "code",
      "metadata": {
        "id": "Ot08I_ggcLbf",
        "colab": {
          "base_uri": "https://localhost:8080/",
          "height": 380
        },
        "outputId": "8d6dc65a-fb56-4d20-8ce4-99eecbd5ce91"
      },
      "source": [
        "df1.columns=['Educational level', 'Age of respondent at 1st birth',\n",
        "       'Currentlybreastfeeding', 'Desireformorechildren', 'Exposure',\n",
        "       'Respondentcurrentlyworking', 'Sexofchild', 'Child status',\n",
        "       'Placeofdelivery', 'Sizeofchildatbirth', 'ANC', 'Birthorder',\n",
        "       'Respondentplaceofresidence', 'Religion', 'WealthIndex',\n",
        "Educational level', 'Age of respondent at 1st birth',\n",
        "       'Currentlybreastfeeding', 'Desireformorechildren', 'Exposure',\n",
        "       'Respondentcurrentlyworking', 'Sexofchild', 'Child status',\n",
        "       'Placeofdelivery', 'Sizeofchildatbirth', 'ANC', 'Birthorder',\n",
        "       'Respondentplaceofresidence', 'Religion', 'WealthIndex',\n",
        "       'Anymed'], axis=1)\n",
        "print(df1.head())\n",
        "print(df1.shape)"
      ],
      "execution_count": null,
      "outputs": [
        {
          "output_type": "error",
          "ename": "ValueError",
          "evalue": "ignored",
          "traceback": [
            "\u001b[0;31m---------------------------------------------------------------------------\u001b[0m",
            "\u001b[0;31mValueError\u001b[0m                                Traceback (most recent call last)",
            "\u001b[0;32m<ipython-input-25-682be76b5e07>\u001b[0m in \u001b[0;36m<module>\u001b[0;34m()\u001b[0m\n\u001b[1;32m      4\u001b[0m        \u001b[0;34m'Placeofdelivery'\u001b[0m\u001b[0;34m,\u001b[0m \u001b[0;34m'Sizeofchildatbirth'\u001b[0m\u001b[0;34m,\u001b[0m \u001b[0;34m'ANC'\u001b[0m\u001b[0;34m,\u001b[0m \u001b[0;34m'Birthorder'\u001b[0m\u001b[0;34m,\u001b[0m\u001b[0;34m\u001b[0m\u001b[0;34m\u001b[0m\u001b[0m\n\u001b[1;32m      5\u001b[0m        \u001b[0;34m'Respondentplaceofresidence'\u001b[0m\u001b[0;34m,\u001b[0m \u001b[0;34m'Religion'\u001b[0m\u001b[0;34m,\u001b[0m \u001b[0;34m'WealthIndex'\u001b[0m\u001b[0;34m,\u001b[0m\u001b[0;34m\u001b[0m\u001b[0;34m\u001b[0m\u001b[0m\n\u001b[0;32m----> 6\u001b[0;31m        'Anymediaexposure', 'Birthinterval', 'Caste', 'Time']\n\u001b[0m",
            "\u001b[0;32m/usr/local/lib/python3.7/dist-packages/pandas/core/generic.py\u001b[0m in \u001b[0;36m__setattr__\u001b[0;34m(self, name, value)\u001b[0m\n\u001b[1;32m   5152\u001b[0m         \u001b[0;32mtry\u001b[0m\u001b[0;34m:\u001b[0m\u001b[0;34m\u001b[0m\u001b[0;34m\u001b[0m\u001b[0m\n\u001b[1;32m   5153\u001b[0m             \u001b[0mobject\u001b[0m\u001b[0;34m.\u001b[0m\u001b[0m__getattribute__\u001b[0m\u001b[0;34m(\u001b[0m\u001b[0mself\u001b[0m\u001b[0;34m,\u001b[0m \u001b[0mname\u001b[0m\u001b[0;34m)\u001b[0m\u001b[0;34m\u001b[0m\u001b[0;34m\u001b[0m\u001b[0m\n\u001b[0;32m-> 5154\u001b[0;31m             \u001b[0;32mreturn\u001b[0m \u001b[0mobject\u001b[0m\u001b[0;34m.\u001b[0m\u001b[0m__setattr__\u001b[0m\u001b[0;34m(\u001b[0m\u001b[0mself\u001b[0m\u001b[0;34m,\u001b[0m \u001b[0mname\u001b[0m\u001b[0;34m,\u001b[0m \u001b[0mvalue\u001b[0m\u001b[0;34m)\u001b[0m\u001b[0;34m\u001b[0m\u001b[0;34m\u001b[0m\u001b[0m\n\u001b[0m\u001b[1;32m   5155\u001b[0m         \u001b[0;32mexcept\u001b[0m \u001b[0mAttributeError\u001b[0m\u001b[0;34m:\u001b[0m\u001b[0;34m\u001b[0m\u001b[0;34m\u001b[0m\u001b[0m\n\u001b[1;32m   5156\u001b[0m             \u001b[0;32mpass\u001b[0m\u001b[0;34m\u001b[0m\u001b[0;34m\u001b[0m\u001b[0m\n",
            "\u001b[0;32mpandas/_libs/properties.pyx\u001b[0m in \u001b[0;36mpandas._libs.properties.AxisProperty.__set__\u001b[0;34m()\u001b[0m\n",
            "\u001b[0;32m/usr/local/lib/python3.7/dist-packages/pandas/core/generic.py\u001b[0m in \u001b[0;36m_set_axis\u001b[0;34m(self, axis, labels)\u001b[0m\n\u001b[1;32m    562\u001b[0m     \u001b[0;32mdef\u001b[0m \u001b[0m_set_axis\u001b[0m\u001b[0;34m(\u001b[0m\u001b[0mself\u001b[0m\u001b[0;34m,\u001b[0m \u001b[0maxis\u001b[0m\u001b[0;34m:\u001b[0m \u001b[0mint\u001b[0m\u001b[0;34m,\u001b[0m \u001b[0mlabels\u001b[0m\u001b[0;34m:\u001b[0m \u001b[0mIndex\u001b[0m\u001b[0;34m)\u001b[0m \u001b[0;34m->\u001b[0m \u001b[0;32mNone\u001b[0m\u001b[0;34m:\u001b[0m\u001b[0;34m\u001b[0m\u001b[0;34m\u001b[0m\u001b[0m\n\u001b[1;32m    563\u001b[0m         \u001b[0mlabels\u001b[0m \u001b[0;34m=\u001b[0m \u001b[0mensure_index\u001b[0m\u001b[0;34m(\u001b[0m\u001b[0mlabels\u001b[0m\u001b[0;34m)\u001b[0m\u001b[0;34m\u001b[0m\u001b[0;34m\u001b[0m\u001b[0m\n\u001b[0;32m--> 564\u001b[0;31m         \u001b[0mself\u001b[0m\u001b[0;34m.\u001b[0m\u001b[0m_mgr\u001b[0m\u001b[0;34m.\u001b[0m\u001b[0mset_axis\u001b[0m\u001b[0;34m(\u001b[0m\u001b[0maxis\u001b[0m\u001b[0;34m,\u001b[0m \u001b[0mlabels\u001b[0m\u001b[0;34m)\u001b[0m\u001b[0;34m\u001b[0m\u001b[0;34m\u001b[0m\u001b[0m\n\u001b[0m\u001b[1;32m    565\u001b[0m         \u001b[0mself\u001b[0m\u001b[0;34m.\u001b[0m\u001b[0m_clear_item_cache\u001b[0m\u001b[0;34m(\u001b[0m\u001b[0;34m)\u001b[0m\u001b[0;34m\u001b[0m\u001b[0;34m\u001b[0m\u001b[0m\n\u001b[1;32m    566\u001b[0m \u001b[0;34m\u001b[0m\u001b[0m\n",
            "\u001b[0;32m/usr/local/lib/python3.7/dist-packages/pandas/core/internals/managers.py\u001b[0m in \u001b[0;36mset_axis\u001b[0;34m(self, axis, new_labels)\u001b[0m\n\u001b[1;32m    225\u001b[0m         \u001b[0;32mif\u001b[0m \u001b[0mnew_len\u001b[0m \u001b[0;34m!=\u001b[0m \u001b[0mold_len\u001b[0m\u001b[0;34m:\u001b[0m\u001b[0;34m\u001b[0m\u001b[0;34m\u001b[0m\u001b[0m\n\u001b[1;32m    226\u001b[0m             raise ValueError(\n\u001b[0;32m--> 227\u001b[0;31m                 \u001b[0;34mf\"Length mismatch: Expected axis has {old_len} elements, new \"\u001b[0m\u001b[0;34m\u001b[0m\u001b[0;34m\u001b[0m\u001b[0m\n\u001b[0m\u001b[1;32m    228\u001b[0m                 \u001b[0;34mf\"values have {new_len} elements\"\u001b[0m\u001b[0;34m\u001b[0m\u001b[0;34m\u001b[0m\u001b[0m\n\u001b[1;32m    229\u001b[0m             )\n",
            "\u001b[0;31mValueError\u001b[0m: Length mismatch: Expected axis has 17 elements, new values have 19 elements"
          ]
        }
      ]
    },
    {
      "cell_type": "code",
      "metadata": {
        "id": "SgbC_bW_c81o",
        "colab": {
          "base_uri": "https://localhost:8080/",
          "height": 241
        },
        "outputId": "6df3502e-8505-4c47-d245-a7657155e163"
      },
      "source": [
        "df1.head()"
      ],
      "execution_count": null,
      "outputs": [
        {
          "output_type": "execute_result",
          "data": {
            "text/html": [
              "<div>\n",
              "<style scoped>\n",
              "    .dataframe tbody tr th:only-of-type {\n",
              "        vertical-align: middle;\n",
              "    }\n",
              "\n",
              "    .dataframe tbody tr th {\n",
              "        vertical-align: top;\n",
              "    }\n",
              "\n",
              "    .dataframe thead th {\n",
              "        text-align: right;\n",
              "    }\n",
              "</style>\n",
              "<table border=\"1\" class=\"dataframe\">\n",
              "  <thead>\n",
              "    <tr style=\"text-align: right;\">\n",
              "      <th></th>\n",
              "      <th>Educational_level</th>\n",
              "      <th>Total_children_ever_born</th>\n",
              "      <th>Number_of_living_children</th>\n",
              "      <th>Births_in_last_five_years</th>\n",
              "      <th>Currently_breast_feeding</th>\n",
              "      <th>Desire _for_more_children</th>\n",
              "      <th>Exposure</th>\n",
              "      <th>Child_status</th>\n",
              "      <th>Size_of_child_at_birth</th>\n",
              "      <th>ANC</th>\n",
              "      <th>Birth_order</th>\n",
              "      <th>Respondent_place_of_residence</th>\n",
              "      <th>Wealth_index</th>\n",
              "      <th>Any_media_exposure</th>\n",
              "      <th>Time</th>\n",
              "    </tr>\n",
              "  </thead>\n",
              "  <tbody>\n",
              "    <tr>\n",
              "      <th>0</th>\n",
              "      <td>2</td>\n",
              "      <td>2</td>\n",
              "      <td>1</td>\n",
              "      <td>2</td>\n",
              "      <td>1</td>\n",
              "      <td>1.0</td>\n",
              "      <td>0</td>\n",
              "      <td>1</td>\n",
              "      <td>1.0</td>\n",
              "      <td>0</td>\n",
              "      <td>2</td>\n",
              "      <td>2</td>\n",
              "      <td>1</td>\n",
              "      <td>0</td>\n",
              "      <td>44</td>\n",
              "    </tr>\n",
              "    <tr>\n",
              "      <th>1</th>\n",
              "      <td>2</td>\n",
              "      <td>2</td>\n",
              "      <td>1</td>\n",
              "      <td>2</td>\n",
              "      <td>1</td>\n",
              "      <td>1.0</td>\n",
              "      <td>0</td>\n",
              "      <td>0</td>\n",
              "      <td>1.0</td>\n",
              "      <td>0</td>\n",
              "      <td>1</td>\n",
              "      <td>2</td>\n",
              "      <td>1</td>\n",
              "      <td>0</td>\n",
              "      <td>56</td>\n",
              "    </tr>\n",
              "    <tr>\n",
              "      <th>2</th>\n",
              "      <td>0</td>\n",
              "      <td>2</td>\n",
              "      <td>2</td>\n",
              "      <td>2</td>\n",
              "      <td>1</td>\n",
              "      <td>2.0</td>\n",
              "      <td>0</td>\n",
              "      <td>1</td>\n",
              "      <td>2.0</td>\n",
              "      <td>0</td>\n",
              "      <td>2</td>\n",
              "      <td>2</td>\n",
              "      <td>1</td>\n",
              "      <td>0</td>\n",
              "      <td>11</td>\n",
              "    </tr>\n",
              "    <tr>\n",
              "      <th>3</th>\n",
              "      <td>0</td>\n",
              "      <td>2</td>\n",
              "      <td>2</td>\n",
              "      <td>2</td>\n",
              "      <td>1</td>\n",
              "      <td>2.0</td>\n",
              "      <td>0</td>\n",
              "      <td>1</td>\n",
              "      <td>3.0</td>\n",
              "      <td>0</td>\n",
              "      <td>1</td>\n",
              "      <td>2</td>\n",
              "      <td>1</td>\n",
              "      <td>0</td>\n",
              "      <td>45</td>\n",
              "    </tr>\n",
              "    <tr>\n",
              "      <th>4</th>\n",
              "      <td>2</td>\n",
              "      <td>1</td>\n",
              "      <td>1</td>\n",
              "      <td>1</td>\n",
              "      <td>1</td>\n",
              "      <td>1.0</td>\n",
              "      <td>2</td>\n",
              "      <td>1</td>\n",
              "      <td>2.0</td>\n",
              "      <td>0</td>\n",
              "      <td>1</td>\n",
              "      <td>2</td>\n",
              "      <td>1</td>\n",
              "      <td>1</td>\n",
              "      <td>3</td>\n",
              "    </tr>\n",
              "  </tbody>\n",
              "</table>\n",
              "</div>"
            ],
            "text/plain": [
              "   Educational_level  Total_children_ever_born  ...  Any_media_exposure  Time\n",
              "0                  2                         2  ...                   0    44\n",
              "1                  2                         2  ...                   0    56\n",
              "2                  0                         2  ...                   0    11\n",
              "3                  0                         2  ...                   0    45\n",
              "4                  2                         1  ...                   1     3\n",
              "\n",
              "[5 rows x 15 columns]"
            ]
          },
          "metadata": {
            "tags": []
          },
          "execution_count": 9
        }
      ]
    },
    {
      "cell_type": "code",
      "metadata": {
        "id": "Jr4vGW11n5D3",
        "colab": {
          "base_uri": "https://localhost:8080/"
        },
        "outputId": "3b9974c4-d037-444f-fdb3-1a60d425f1ae"
      },
      "source": [
        "# target or outcome\n",
        "Y=df1['Child status']\n",
        "print(Y.head())\n",
        "print(Y.shape)"
      ],
      "execution_count": null,
      "outputs": [
        {
          "output_type": "stream",
          "name": "stdout",
          "text": [
            "0    0\n",
            "1    1\n",
            "2    0\n",
            "3    0\n",
            "4    0\n",
            "Name: Child status, dtype: int64\n",
            "(41751,)\n"
          ]
        }
      ]
    },
    {
      "cell_type": "code",
      "metadata": {
        "id": "FNqo0hJeoK7f"
      },
      "source": [
        "# drop survival column from df\n",
        "df1=df1.drop(['Child status'], axis=1)"
      ],
      "execution_count": null,
      "outputs": []
    },
    {
      "cell_type": "code",
      "metadata": {
        "id": "4geyCClzTsvP",
        "colab": {
          "base_uri": "https://localhost:8080/",
          "height": 130
        },
        "outputId": "71532fae-f816-40e3-9bb0-c8e9b27099dc"
      },
      "source": [
        "Sklearn.model_Selection\n",
        " X_train, X_test, y_train, y_test = train_test_split(\n",
        "...     X, y, test_size=0.33, random_state=42)"
      ],
      "execution_count": null,
      "outputs": [
        {
          "output_type": "error",
          "ename": "IndentationError",
          "evalue": "ignored",
          "traceback": [
            "\u001b[0;36m  File \u001b[0;32m\"<ipython-input-34-161e42ee989d>\"\u001b[0;36m, line \u001b[0;32m2\u001b[0m\n\u001b[0;31m    X_train, X_test, y_train, y_test = train_test_split(\u001b[0m\n\u001b[0m    ^\u001b[0m\n\u001b[0;31mIndentationError\u001b[0m\u001b[0;31m:\u001b[0m unexpected indent\n"
          ]
        }
      ]
    },
    {
      "cell_type": "code",
      "metadata": {
        "id": "RdC5BH9Vf5KR",
        "colab": {
          "base_uri": "https://localhost:8080/"
        },
        "outputId": "039988da-d3ef-43dd-d327-2d7187704404"
      },
      "source": [
        "# training data\n",
        "train_x=df1.iloc[0:30000,:]\n",
        "print(train_x.head())\n",
        "print(train_x.shape)"
      ],
      "execution_count": null,
      "outputs": [
        {
          "output_type": "stream",
          "name": "stdout",
          "text": [
            "  Educational level Age of respondent at 1st birth  ... Caste Time\n",
            "0         Secondary                      20-35 Yrs  ...   OBC   44\n",
            "1         Secondary                      20-35 Yrs  ...   OBC   56\n",
            "2      No education                      20-35 Yrs  ...   OBC   11\n",
            "3      No education                      20-35 Yrs  ...   OBC   45\n",
            "4         Secondary                      20-35 Yrs  ...   OBC    3\n",
            "\n",
            "[5 rows x 16 columns]\n",
            "(30000, 16)\n"
          ]
        }
      ]
    },
    {
      "cell_type": "code",
      "metadata": {
        "id": "h-06a5uPiXvQ",
        "colab": {
          "base_uri": "https://localhost:8080/",
          "height": 130
        },
        "outputId": "5c2fa4e8-9871-4215-dfef-6b63b957872c"
      },
      "source": [
        "train_y=survival[0:30000]\n",
        "print(train_y.head())\n",
        "print(train_y.shape)"
      ],
      "execution_count": null,
      "outputs": [
        {
          "output_type": "error",
          "ename": "SyntaxError",
          "evalue": "ignored",
          "traceback": [
            "\u001b[0;36m  File \u001b[0;32m\"<ipython-input-33-7ae65bb0f69e>\"\u001b[0;36m, line \u001b[0;32m1\u001b[0m\n\u001b[0;31m    train_y=Child status[0:30000]\u001b[0m\n\u001b[0m                       ^\u001b[0m\n\u001b[0;31mSyntaxError\u001b[0m\u001b[0;31m:\u001b[0m invalid syntax\n"
          ]
        }
      ]
    },
    {
      "cell_type": "code",
      "metadata": {
        "id": "lG1JQFLspNCN",
        "colab": {
          "base_uri": "https://localhost:8080/",
          "height": 34
        },
        "outputId": "3c88beb2-8cec-49d6-f43f-0236bb34cb06"
      },
      "source": [
        "type(train_y[0])  # the values in train y are integer, convert it into binary"
      ],
      "execution_count": null,
      "outputs": [
        {
          "output_type": "execute_result",
          "data": {
            "text/plain": [
              "numpy.int64"
            ]
          },
          "metadata": {
            "tags": []
          },
          "execution_count": 97
        }
      ]
    },
    {
      "cell_type": "code",
      "metadata": {
        "id": "oPw4JhVdpSw6",
        "colab": {
          "base_uri": "https://localhost:8080/",
          "height": 136
        },
        "outputId": "f3a4b05a-a063-47a6-a775-cfd5b3e78c57"
      },
      "source": [
        "from sklearn.preprocessing import LabelBinarizer\n",
        "encoder=LabelBinarizer()\n",
        "train_y_encoded=encoder.fit_transform(train_y)\n",
        "train_y_encoded"
      ],
      "execution_count": null,
      "outputs": [
        {
          "output_type": "execute_result",
          "data": {
            "text/plain": [
              "array([[1],\n",
              "       [0],\n",
              "       [1],\n",
              "       ...,\n",
              "       [1],\n",
              "       [1],\n",
              "       [0]])"
            ]
          },
          "metadata": {
            "tags": []
          },
          "execution_count": 98
        }
      ]
    },
    {
      "cell_type": "code",
      "metadata": {
        "id": "Pg7072Kypo07",
        "colab": {
          "base_uri": "https://localhost:8080/",
          "height": 170
        },
        "outputId": "5f9a4d21-2a28-4cc3-804e-7180002f3208"
      },
      "source": [
        "# testing data\n",
        "test_x=df1.iloc[30000:,:]\n",
        "print(test_x.head())\n",
        "print(test_x.shape)"
      ],
      "execution_count": null,
      "outputs": [
        {
          "output_type": "stream",
          "text": [
            "       Educational_level  Total_children_ever_born  ...  Any_media_exposure  Time\n",
            "30000                  0                         1  ...                   1     5\n",
            "30001                  3                         2  ...                   1    56\n",
            "30002                  3                         2  ...                   1    29\n",
            "30003                  0                         2  ...                   1    26\n",
            "30004                  0                         2  ...                   1    48\n",
            "\n",
            "[5 rows x 14 columns]\n",
            "(11751, 14)\n"
          ],
          "name": "stdout"
        }
      ]
    },
    {
      "cell_type": "code",
      "metadata": {
        "id": "GtGU-T7rpozI",
        "colab": {
          "base_uri": "https://localhost:8080/",
          "height": 255
        },
        "outputId": "386b2247-ada2-4405-9972-e35aefcbeaff"
      },
      "source": [
        "test_y=survival[30000:]\n",
        "print(test_y.head())\n",
        "print(test_y.shape)\n",
        "\n",
        "# converting the values into binary form\n",
        "from sklearn.preprocessing import LabelBinarizer\n",
        "encoder=LabelBinarizer()\n",
        "test_y_encoded=encoder.fit_transform(test_y)\n",
        "test_y_encoded"
      ],
      "execution_count": null,
      "outputs": [
        {
          "output_type": "stream",
          "text": [
            "30000    1\n",
            "30001    1\n",
            "30002    1\n",
            "30003    1\n",
            "30004    1\n",
            "Name: Child_status, dtype: int64\n",
            "(11751,)\n"
          ],
          "name": "stdout"
        },
        {
          "output_type": "execute_result",
          "data": {
            "text/plain": [
              "array([[1],\n",
              "       [1],\n",
              "       [1],\n",
              "       ...,\n",
              "       [1],\n",
              "       [1],\n",
              "       [1]])"
            ]
          },
          "metadata": {
            "tags": []
          },
          "execution_count": 100
        }
      ]
    },
    {
      "cell_type": "markdown",
      "metadata": {
        "id": "3Nk1uGs91ezL"
      },
      "source": [
        "decision tree classification"
      ]
    },
    {
      "cell_type": "code",
      "metadata": {
        "id": "GfNpG2YqrhTQ"
      },
      "source": [
        "from sklearn.tree import DecisionTreeClassifier   # from sklearn importing decision tree model\n",
        "dt_model = DecisionTreeClassifier(max_depth =6,\n",
        "                             random_state = 0)    # initializing a model with maximum depth of tree as 6"
      ],
      "execution_count": null,
      "outputs": []
    },
    {
      "cell_type": "code",
      "metadata": {
        "id": "tsxDmU11sCxj",
        "colab": {
          "base_uri": "https://localhost:8080/",
          "height": 119
        },
        "outputId": "1b6d9a34-05c8-4836-d0ee-c3a4a8d7f806"
      },
      "source": [
        "dt_model.fit(np.array(train_x),train_y_encoded)   # fit or train the model with traing data(x and y)"
      ],
      "execution_count": null,
      "outputs": [
        {
          "output_type": "execute_result",
          "data": {
            "text/plain": [
              "DecisionTreeClassifier(ccp_alpha=0.0, class_weight=None, criterion='gini',\n",
              "                       max_depth=6, max_features=None, max_leaf_nodes=None,\n",
              "                       min_impurity_decrease=0.0, min_impurity_split=None,\n",
              "                       min_samples_leaf=1, min_samples_split=2,\n",
              "                       min_weight_fraction_leaf=0.0, presort='deprecated',\n",
              "                       random_state=0, splitter='best')"
            ]
          },
          "metadata": {
            "tags": []
          },
          "execution_count": 102
        }
      ]
    },
    {
      "cell_type": "code",
      "metadata": {
        "id": "6sa9r26usDMA",
        "colab": {
          "base_uri": "https://localhost:8080/",
          "height": 34
        },
        "outputId": "3e4cd98b-68c2-4c7c-9bf5-24ec65af5c81"
      },
      "source": [
        "y_pred_dt=dt_model.predict(test_x)  # predict y values for testing data\n",
        "y_pred_dt"
      ],
      "execution_count": null,
      "outputs": [
        {
          "output_type": "execute_result",
          "data": {
            "text/plain": [
              "array([1, 1, 1, ..., 1, 1, 1])"
            ]
          },
          "metadata": {
            "tags": []
          },
          "execution_count": 103
        }
      ]
    },
    {
      "cell_type": "code",
      "metadata": {
        "id": "Tt5AWO5MuojB",
        "colab": {
          "base_uri": "https://localhost:8080/",
          "height": 34
        },
        "outputId": "21bf7107-f5c6-4720-fa4f-e1a796f2112b"
      },
      "source": [
        "from sklearn import metrics #Import scikit-learn metrics module for accuracy calculation\n",
        "accuracy_1= metrics.accuracy_score(test_y, y_pred_dt)\n",
        "print(\"Accuracy of model : \",+ accuracy_1)"
      ],
      "execution_count": null,
      "outputs": [
        {
          "output_type": "stream",
          "text": [
            "Accuracy of model :  0.9457067483618415\n"
          ],
          "name": "stdout"
        }
      ]
    },
    {
      "cell_type": "markdown",
      "metadata": {
        "id": "XLpnAvHF1l0y"
      },
      "source": [
        "support vector machine classification"
      ]
    },
    {
      "cell_type": "code",
      "metadata": {
        "id": "gsE-Lgxh1p_E"
      },
      "source": [
        "#Import svm model\n",
        "from sklearn import svm\n",
        "\n",
        "#Create a svm Classifier\n",
        "svm_model = svm.SVC(kernel='linear') # Linear Kerne"
      ],
      "execution_count": null,
      "outputs": []
    },
    {
      "cell_type": "code",
      "metadata": {
        "id": "4m9CmxH91qO2",
        "colab": {
          "base_uri": "https://localhost:8080/",
          "height": 139
        },
        "outputId": "eb1f605a-e1f2-4fd0-a35a-cff7a52bfad3"
      },
      "source": [
        "svm_model.fit(train_x, train_y_encoded)  # fit the model"
      ],
      "execution_count": null,
      "outputs": [
        {
          "output_type": "stream",
          "text": [
            "/usr/local/lib/python3.6/dist-packages/sklearn/utils/validation.py:760: DataConversionWarning: A column-vector y was passed when a 1d array was expected. Please change the shape of y to (n_samples, ), for example using ravel().\n",
            "  y = column_or_1d(y, warn=True)\n"
          ],
          "name": "stderr"
        },
        {
          "output_type": "execute_result",
          "data": {
            "text/plain": [
              "SVC(C=1.0, break_ties=False, cache_size=200, class_weight=None, coef0=0.0,\n",
              "    decision_function_shape='ovr', degree=3, gamma='scale', kernel='linear',\n",
              "    max_iter=-1, probability=False, random_state=None, shrinking=True,\n",
              "    tol=0.001, verbose=False)"
            ]
          },
          "metadata": {
            "tags": []
          },
          "execution_count": 106
        }
      ]
    },
    {
      "cell_type": "code",
      "metadata": {
        "id": "DTTD9mNz2iRP",
        "colab": {
          "base_uri": "https://localhost:8080/",
          "height": 34
        },
        "outputId": "e1f64c13-ac8d-4526-85dc-f57c410c8b30"
      },
      "source": [
        "y_pred_svm=svm_model.predict(test_x)  # predicted values for test data\n",
        "y_pred_svm"
      ],
      "execution_count": null,
      "outputs": [
        {
          "output_type": "execute_result",
          "data": {
            "text/plain": [
              "array([1, 1, 1, ..., 1, 1, 1])"
            ]
          },
          "metadata": {
            "tags": []
          },
          "execution_count": 107
        }
      ]
    },
    {
      "cell_type": "code",
      "metadata": {
        "id": "aNKqT8962igO",
        "colab": {
          "base_uri": "https://localhost:8080/",
          "height": 34
        },
        "outputId": "9f82a94f-7e16-4d99-9583-55bd00c3f06f"
      },
      "source": [
        "from sklearn import metrics #Import scikit-learn metrics module for accuracy calculation\n",
        "accuracy_2=metrics.accuracy_score(test_y_encoded,y_pred_svm)\n",
        "print(\"Accuracy of model : \",+ accuracy_2 )  # accuracy based on predictions"
      ],
      "execution_count": null,
      "outputs": [
        {
          "output_type": "stream",
          "text": [
            "Accuracy of model :  0.9321759850225513\n"
          ],
          "name": "stdout"
        }
      ]
    },
    {
      "cell_type": "markdown",
      "metadata": {
        "id": "SK-bcxqb3S4K"
      },
      "source": [
        "random forest classification\n"
      ]
    },
    {
      "cell_type": "code",
      "metadata": {
        "id": "dOztQF3M3XRJ"
      },
      "source": [
        "# Import the model\n",
        "from sklearn.ensemble import RandomForestClassifier\n",
        "\n",
        "# Instantiate model with 500 decision trees\n",
        "rf_model = RandomForestClassifier(n_estimators = 500, random_state = 42)\n"
      ],
      "execution_count": null,
      "outputs": []
    },
    {
      "cell_type": "code",
      "metadata": {
        "id": "pi9qzMmL3Xfw",
        "colab": {
          "base_uri": "https://localhost:8080/",
          "height": 207
        },
        "outputId": "dd0164ac-fda5-4e4b-c66c-bd2fec7247f0"
      },
      "source": [
        "# Train the model on training data\n",
        "rf_model.fit(train_x, train_y_encoded)"
      ],
      "execution_count": null,
      "outputs": [
        {
          "output_type": "stream",
          "text": [
            "/usr/local/lib/python3.6/dist-packages/ipykernel_launcher.py:2: DataConversionWarning: A column-vector y was passed when a 1d array was expected. Please change the shape of y to (n_samples,), for example using ravel().\n",
            "  \n"
          ],
          "name": "stderr"
        },
        {
          "output_type": "execute_result",
          "data": {
            "text/plain": [
              "RandomForestClassifier(bootstrap=True, ccp_alpha=0.0, class_weight=None,\n",
              "                       criterion='gini', max_depth=None, max_features='auto',\n",
              "                       max_leaf_nodes=None, max_samples=None,\n",
              "                       min_impurity_decrease=0.0, min_impurity_split=None,\n",
              "                       min_samples_leaf=1, min_samples_split=2,\n",
              "                       min_weight_fraction_leaf=0.0, n_estimators=500,\n",
              "                       n_jobs=None, oob_score=False, random_state=42, verbose=0,\n",
              "                       warm_start=False)"
            ]
          },
          "metadata": {
            "tags": []
          },
          "execution_count": 110
        }
      ]
    },
    {
      "cell_type": "code",
      "metadata": {
        "id": "QE4_m_Fl3XzM",
        "colab": {
          "base_uri": "https://localhost:8080/",
          "height": 34
        },
        "outputId": "182969b1-b2b0-479a-d152-c6affdeb535c"
      },
      "source": [
        "y_pred_rf=rf_model.predict(test_x)\n",
        "y_pred_rf"
      ],
      "execution_count": null,
      "outputs": [
        {
          "output_type": "execute_result",
          "data": {
            "text/plain": [
              "array([1, 1, 1, ..., 1, 1, 1])"
            ]
          },
          "metadata": {
            "tags": []
          },
          "execution_count": 111
        }
      ]
    },
    {
      "cell_type": "code",
      "metadata": {
        "id": "E4scsIhd4Ywj",
        "colab": {
          "base_uri": "https://localhost:8080/",
          "height": 34
        },
        "outputId": "2470b468-35f2-464e-a7b1-e84c0eccf1f6"
      },
      "source": [
        "from sklearn import metrics\n",
        "accuracy_3=metrics.accuracy_score(test_y_encoded, y_pred_rf)\n",
        "accuracy_3"
      ],
      "execution_count": null,
      "outputs": [
        {
          "output_type": "execute_result",
          "data": {
            "text/plain": [
              "0.9422176836013956"
            ]
          },
          "metadata": {
            "tags": []
          },
          "execution_count": 112
        }
      ]
    },
    {
      "cell_type": "markdown",
      "metadata": {
        "id": "UorwztS_dgNQ"
      },
      "source": [
        "Logistic regression\n"
      ]
    },
    {
      "cell_type": "code",
      "metadata": {
        "id": "UPNsgxSpdk3U"
      },
      "source": [
        "from sklearn.linear_model import LogisticRegression\n",
        "Lr_model=LogisticRegression(random_state=0)\n"
      ],
      "execution_count": null,
      "outputs": []
    },
    {
      "cell_type": "code",
      "metadata": {
        "id": "tv4eoOt1eTDC",
        "colab": {
          "base_uri": "https://localhost:8080/",
          "height": 292
        },
        "outputId": "9e93e9a2-922f-4138-f618-9f37664199d9"
      },
      "source": [
        "Lr_model.fit(train_x, train_y_encoded)"
      ],
      "execution_count": null,
      "outputs": [
        {
          "output_type": "stream",
          "text": [
            "/usr/local/lib/python3.6/dist-packages/sklearn/utils/validation.py:760: DataConversionWarning: A column-vector y was passed when a 1d array was expected. Please change the shape of y to (n_samples, ), for example using ravel().\n",
            "  y = column_or_1d(y, warn=True)\n",
            "/usr/local/lib/python3.6/dist-packages/sklearn/linear_model/_logistic.py:940: ConvergenceWarning: lbfgs failed to converge (status=1):\n",
            "STOP: TOTAL NO. of ITERATIONS REACHED LIMIT.\n",
            "\n",
            "Increase the number of iterations (max_iter) or scale the data as shown in:\n",
            "    https://scikit-learn.org/stable/modules/preprocessing.html\n",
            "Please also refer to the documentation for alternative solver options:\n",
            "    https://scikit-learn.org/stable/modules/linear_model.html#logistic-regression\n",
            "  extra_warning_msg=_LOGISTIC_SOLVER_CONVERGENCE_MSG)\n"
          ],
          "name": "stderr"
        },
        {
          "output_type": "execute_result",
          "data": {
            "text/plain": [
              "LogisticRegression(C=1.0, class_weight=None, dual=False, fit_intercept=True,\n",
              "                   intercept_scaling=1, l1_ratio=None, max_iter=100,\n",
              "                   multi_class='auto', n_jobs=None, penalty='l2',\n",
              "                   random_state=0, solver='lbfgs', tol=0.0001, verbose=0,\n",
              "                   warm_start=False)"
            ]
          },
          "metadata": {
            "tags": []
          },
          "execution_count": 114
        }
      ]
    },
    {
      "cell_type": "code",
      "metadata": {
        "id": "Zu9A0Q7VedpL",
        "colab": {
          "base_uri": "https://localhost:8080/",
          "height": 34
        },
        "outputId": "6aa973f7-8e87-4934-a344-c6b8912c12e4"
      },
      "source": [
        "y_pred_Lr=Lr_model.predict(test_x)\n",
        "y_pred_Lr"
      ],
      "execution_count": null,
      "outputs": [
        {
          "output_type": "execute_result",
          "data": {
            "text/plain": [
              "array([1, 1, 1, ..., 1, 1, 1])"
            ]
          },
          "metadata": {
            "tags": []
          },
          "execution_count": 115
        }
      ]
    },
    {
      "cell_type": "code",
      "metadata": {
        "id": "IKnaCsWmesNw",
        "colab": {
          "base_uri": "https://localhost:8080/",
          "height": 34
        },
        "outputId": "fd3c7164-5952-43e5-b865-87443cacdd83"
      },
      "source": [
        "from sklearn import metrics\n",
        "accuracy_4=metrics.accuracy_score(test_y_encoded, y_pred_Lr)\n",
        "accuracy_4"
      ],
      "execution_count": null,
      "outputs": [
        {
          "output_type": "execute_result",
          "data": {
            "text/plain": [
              "0.9369415368904774"
            ]
          },
          "metadata": {
            "tags": []
          },
          "execution_count": 116
        }
      ]
    },
    {
      "cell_type": "markdown",
      "metadata": {
        "id": "t_artMskiKgd"
      },
      "source": [
        "Comparison of models"
      ]
    },
    {
      "cell_type": "markdown",
      "metadata": {
        "id": "O7RjI3AL1TN3"
      },
      "source": [
        "# ROC curve is used to compare the performance of machine learning model\n",
        "\n",
        "# actual       # Predicted\n",
        "# 0= true      # 0= positive\n",
        "# 1= false     # 1= negative\n",
        "\n",
        "# TPR(sensitivity)=TP/TP+FN      \n",
        "# FPR(1-Specificity)=FP/FP+TN\n"
      ]
    },
    {
      "cell_type": "code",
      "metadata": {
        "id": "bEiEd3-4zX1J"
      },
      "source": [
        "# claculate AUROC area under ROC curve\n",
        "\n",
        "from sklearn.metrics import roc_curve, roc_auc_score\n",
        "\n",
        "dt_auc = roc_auc_score(test_y, y_pred_dt)\n",
        "rf_auc = roc_auc_score(test_y, y_pred_rf)\n",
        "svm_auc = roc_auc_score(test_y, y_pred_svm)\n",
        "Lr_auc = roc_auc_score(test_y, y_pred_Lr)"
      ],
      "execution_count": null,
      "outputs": []
    },
    {
      "cell_type": "code",
      "metadata": {
        "id": "bJGB6bQD1NwW",
        "colab": {
          "base_uri": "https://localhost:8080/",
          "height": 85
        },
        "outputId": "59e5e073-20a0-4056-cdf6-fe5608826829"
      },
      "source": [
        "# print ROC score\n",
        "print('Decision Tree : AUROC = %.3f' % (dt_auc))\n",
        "print('Random Forest: AUROC = %.3f' % (rf_auc))\n",
        "print('Support Vector Machine: AUROC = %.3f' % (svm_auc))\n",
        "print('Logistic Regression: AUROC = %.3f' % (Lr_auc))\n"
      ],
      "execution_count": null,
      "outputs": [
        {
          "output_type": "stream",
          "text": [
            "Decision Tree : AUROC = 0.643\n",
            "Random Forest: AUROC = 0.683\n",
            "Support Vector Machine: AUROC = 0.500\n",
            "Logistic Regression: AUROC = 0.608\n"
          ],
          "name": "stdout"
        }
      ]
    },
    {
      "cell_type": "code",
      "metadata": {
        "id": "Kaoxvvd71N6p"
      },
      "source": [
        "# calculate ROC Curve\n",
        "\n",
        "dt_fpr, dt_tpr, _ = roc_curve(test_y, y_pred_dt)\n",
        "rf_fpr, rf_tpr, _ = roc_curve(test_y, y_pred_rf)\n",
        "svm_fpr, svm_tpr, _ = roc_curve(test_y, y_pred_svm)\n",
        "Lr_fpr, Lr_tpr, _ = roc_curve(test_y, y_pred_Lr)"
      ],
      "execution_count": null,
      "outputs": []
    },
    {
      "cell_type": "code",
      "metadata": {
        "id": "e_1CXQIa1OCm",
        "colab": {
          "base_uri": "https://localhost:8080/",
          "height": 295
        },
        "outputId": "d2c387e2-61b0-4cad-8bf5-9850c580b71a"
      },
      "source": [
        "# plot ROC curve\n",
        "\n",
        "plt.plot(rf_fpr, rf_tpr, marker='.', label='Random Forest (AUROC = %0.3f)' % rf_auc)\n",
        "plt.plot(dt_fpr, dt_tpr, marker='.', label='Decision Tree (AUROC = %0.3f)' % dt_auc)\n",
        "plt.plot(svm_fpr, svm_tpr, marker='.', label='Support Vector Machine (AUROC = %0.3f)' % svm_auc)\n",
        "plt.plot(Lr_fpr, Lr_tpr, marker='.', label='Logistic Regression (AUROC = %0.3f)' % Lr_auc)\n",
        "\n",
        "\n",
        "plt.title('ROC Plot')\n",
        "plt.xlabel('False Positive Rate')\n",
        "plt.ylabel('True Positive Rate')\n",
        "plt.legend()\n",
        "\n",
        "plt.show()"
      ],
      "execution_count": null,
      "outputs": [
        {
          "output_type": "display_data",
          "data": {
            "image/png": "[encoded data removed]",
            "text/plain": [
              "<Figure size 432x288 with 1 Axes>"
            ]
          },
          "metadata": {
            "tags": [],
            "needs_background": "light"
          }
        }
      ]
    },
    {
      "cell_type": "code",
      "metadata": {
        "id": "EdPpW18qA6qO",
        "colab": {
          "base_uri": "https://localhost:8080/",
          "height": 989
        },
        "outputId": "f717082a-92a5-45a4-e41e-fa3bbef1fe8b"
      },
      "source": [
        "# confusion matrix evaluate the performance of the model\n",
        "from sklearn.metrics import confusion_matrix\n",
        "cm_1=confusion_matrix(test_y_encoded, y_pred_dt)\n",
        "cm_2=confusion_matrix(test_y_encoded, y_pred_svm)\n",
        "cm_3=confusion_matrix(test_y_encoded, y_pred_rf)\n",
        "cm_4=confusion_matrix(test_y_encoded, y_pred_Lr)\n",
        "\n",
        "\n",
        "import seaborn as sns\n",
        "import matplotlib.pyplot as plt\n",
        "plt.figure(figsize=(4,4))\n",
        "sns.heatmap(cm_1, annot=True, fmt=\".3f\", linewidths=.5, square = True, cmap = 'Blues_r');\n",
        "plt.ylabel('Actual label');\n",
        "plt.xlabel('Predicted label');\n",
        "plt.title('Decision Tree', size = 15);\n",
        "\n",
        "\n",
        "plt.figure(figsize=(4,4))\n",
        "sns.heatmap(cm_2, annot=True, fmt=\".3f\", linewidths=.5, square = True, cmap = 'BrBG');\n",
        "plt.ylabel('Actual label');\n",
        "plt.xlabel('Predicted label');\n",
        "plt.title('Support Vector Machine', size = 15);\n",
        "\n",
        "\n",
        "plt.figure(figsize=(4,4))\n",
        "sns.heatmap(cm_3, annot=True, fmt=\".3f\", linewidths=.5, square = True, cmap = 'Accent');\n",
        "plt.ylabel('Actual label');\n",
        "plt.xlabel('Predicted label');\n",
        "plt.title('Random Forest', size = 15);\n",
        "\n",
        "\n",
        "plt.figure(figsize=(4,4))\n",
        "sns.heatmap(cm_4, annot=True, fmt=\".3f\", linewidths=.5, square = True, cmap = 'Accent');\n",
        "plt.ylabel('Actual label');\n",
        "plt.xlabel('Predicted label');\n",
        "plt.title('Logistic Regression', size = 15);\n",
        "\n",
        "\n",
        "\n"
      ],
      "execution_count": null,
      "outputs": [
        {
          "output_type": "display_data",
          "data": {
            "image/png": "[encoded data removed]",
            "text/plain": [
              "<Figure size 288x288 with 2 Axes>"
            ]
          },
          "metadata": {
            "tags": [],
            "needs_background": "light"
          }
        },
        {
          "output_type": "display_data",
          "data": {
            "image/png": "[encoded data removed]",
            "text/plain": [
              "<Figure size 288x288 with 2 Axes>"
            ]
          },
          "metadata": {
            "tags": [],
            "needs_background": "light"
          }
        },
        {
          "output_type": "display_data",
          "data": {
            "image/png": "[encoded data removed]",
            "text/plain": [
              "<Figure size 288x288 with 2 Axes>"
            ]
          },
          "metadata": {
            "tags": [],
            "needs_background": "light"
          }
        },
        {
          "output_type": "display_data",
          "data": {
            "image/png": "[encoded data removed]",
            "text/plain": [
              "<Figure size 288x288 with 2 Axes>"
            ]
          },
          "metadata": {
            "tags": [],
            "needs_background": "light"
          }
        }
      ]
    },
    {
      "cell_type": "code",
      "metadata": {
        "id": "qNH2SqGB__g2",
        "colab": {
          "base_uri": "https://localhost:8080/",
          "height": 85
        },
        "outputId": "769823fd-c37d-4bd5-db5a-be52cb0966e8"
      },
      "source": [
        "# accuracy  = number of correct predictions/ total number of prediction =TN+TP/total\n",
        "\n",
        "# decision tree\n",
        "accu_1=(234+10879)/(234+10879+563+73)\n",
        "print(\"Accuracy of decision tree model : \", round(accu_1,3))\n",
        "\n",
        "# svm\n",
        "accu_2=(0+10954)/(0+10954+0+797)\n",
        "print(\"Accuracy of svm  model : \", round(accu_2,3))\n",
        "\n",
        "# random forest\n",
        "accu_3=(305+10767)/(305+492+187+10767)\n",
        "print(\"Accuracy of random forest model : \", round(accu_3,3))\n",
        "\n",
        "# Logistic Regression\n",
        "accu_4=(128+10828)/(182+615+126+10828)\n",
        "print(\"Accuracy of Logistic regression model : \", round(accu_4,3))\n",
        "\n",
        "\n"
      ],
      "execution_count": null,
      "outputs": [
        {
          "output_type": "stream",
          "text": [
            "Accuracy of decision tree model :  0.946\n",
            "Accuracy of svm  model :  0.932\n",
            "Accuracy of random forest model :  0.942\n",
            "Accuracy of Logistic regression model :  0.932\n"
          ],
          "name": "stdout"
        }
      ]
    },
    {
      "cell_type": "code",
      "metadata": {
        "id": "_3d7n_FF__y4",
        "colab": {
          "base_uri": "https://localhost:8080/",
          "height": 85
        },
        "outputId": "4b6711ba-18d7-4a6a-cc80-b99372214d49"
      },
      "source": [
        "# precision = TP/TP+FP (positive outcome)\n",
        "\n",
        "pre_1=10879/(10879+563)\n",
        "print(\" Precision of decion tree : \", round(pre_1, 4))\n",
        "\n",
        "pre_2=10954/(10954+797)\n",
        "print(\" Precision of svm : \", round(pre_2, 4))\n",
        "\n",
        "pre_3=10767/(10767+492)\n",
        "print(\" Precision of random forest : \", round(pre_3, 4))\n",
        "\n",
        "pre_4=10828/(10828+615)\n",
        "print(\" Precision of logistic regression : \", round(pre_3, 4))\n",
        "\n"
      ],
      "execution_count": null,
      "outputs": [
        {
          "output_type": "stream",
          "text": [
            " Precision of decion tree :  0.9508\n",
            " Precision of svm :  0.9322\n",
            " Precision of random forest :  0.9563\n",
            " Precision of logistic regression :  0.9563\n"
          ],
          "name": "stdout"
        }
      ]
    },
    {
      "cell_type": "code",
      "metadata": {
        "id": "0yd0zvjWg8qD",
        "colab": {
          "base_uri": "https://localhost:8080/",
          "height": 85
        },
        "outputId": "602e8904-12ad-4f1d-807f-3baa6a77fb1e"
      },
      "source": [
        "# recall = TP/TP+FN\n",
        "\n",
        "re_1=10879/(10879+75)\n",
        "print(\" Recall of decion tree : \", round(re_1, 4))\n",
        "\n",
        "re_2=10954/(10954+0)\n",
        "print(\" Recall of svm : \", round(re_2, 4))\n",
        "\n",
        "re_3=10767/(10767+187)\n",
        "print(\" Recall of random forest : \", round(re_3, 4))\n",
        "\n",
        "re_4=10828/(10828+126)\n",
        "print(\" Recall of logistic regression : \", round(re_3, 4))\n",
        "\n",
        "\n"
      ],
      "execution_count": null,
      "outputs": [
        {
          "output_type": "stream",
          "text": [
            " Recall of decion tree :  0.9932\n",
            " Recall of svm :  1.0\n",
            " Recall of random forest :  0.9829\n",
            " Recall of logistic regression :  0.9829\n"
          ],
          "name": "stdout"
        }
      ]
    },
    {
      "cell_type": "code",
      "metadata": {
        "id": "-pCRO6u4__wg",
        "colab": {
          "base_uri": "https://localhost:8080/",
          "height": 85
        },
        "outputId": "59b96bc6-7b25-48c4-e6a4-b3db9a239d73"
      },
      "source": [
        "# F1 score = 2* (Precesion*recall)/(precision+recall)\n",
        "\n",
        "f1score_1 = 2*(pre_1 * re_1)/(pre_1 + re_1)\n",
        "print(\" F1 score of decision tree : \", round(f1score_1,4))\n",
        "\n",
        "f1score_2 = 2*(pre_2 * re_2)/(pre_2 + re_2)\n",
        "print(\" F1 score of svm  : \", round(f1score_2,4))\n",
        "\n",
        "f1score_3 = 2*(pre_3 * re_3)/(pre_3 + re_1)\n",
        "print(\" F1 score of random forest : \", round(f1score_3,4))\n",
        "\n",
        "f1score_4 = 2*(pre_4 * re_4)/(pre_4 + re_1)\n",
        "print(\" F1 score of logistic regression : \", round(f1score_4,4))"
      ],
      "execution_count": null,
      "outputs": [
        {
          "output_type": "stream",
          "text": [
            " F1 score of decision tree :  0.9715\n",
            " F1 score of svm  :  0.9649\n",
            " F1 score of random forest :  0.9643\n",
            " F1 score of logistic regression :  0.9646\n"
          ],
          "name": "stdout"
        }
      ]
    },
    {
      "cell_type": "markdown",
      "metadata": {
        "id": "StG6HDTK2vLA"
      },
      "source": [
        "# finding the risk factors using random forest\n",
        "\n"
      ]
    },
    {
      "cell_type": "code",
      "metadata": {
        "id": "Bcwqpyno9kDM"
      },
      "source": [
        "import pandas as pd\n",
        "from sklearn.ensemble import RandomForestClassifier\n",
        "from sklearn.feature_selection import SelectFromModel\n"
      ],
      "execution_count": null,
      "outputs": []
    },
    {
      "cell_type": "code",
      "metadata": {
        "id": "3XVbYXCms5rl",
        "colab": {
          "base_uri": "https://localhost:8080/",
          "height": 241
        },
        "outputId": "f2dd63db-6737-40b2-8844-a78c3f22593a"
      },
      "source": [
        "train_x1=train_x.drop(['Time'], axis=1)\n",
        "train_x1.head()"
      ],
      "execution_count": null,
      "outputs": [
        {
          "output_type": "execute_result",
          "data": {
            "text/html": [
              "<div>\n",
              "<style scoped>\n",
              "    .dataframe tbody tr th:only-of-type {\n",
              "        vertical-align: middle;\n",
              "    }\n",
              "\n",
              "    .dataframe tbody tr th {\n",
              "        vertical-align: top;\n",
              "    }\n",
              "\n",
              "    .dataframe thead th {\n",
              "        text-align: right;\n",
              "    }\n",
              "</style>\n",
              "<table border=\"1\" class=\"dataframe\">\n",
              "  <thead>\n",
              "    <tr style=\"text-align: right;\">\n",
              "      <th></th>\n",
              "      <th>Educational_level</th>\n",
              "      <th>Total_children_ever_born</th>\n",
              "      <th>Number_of_living_children</th>\n",
              "      <th>Births_in_last_five_years</th>\n",
              "      <th>Currently_breast_feeding</th>\n",
              "      <th>Desire _for_more_children</th>\n",
              "      <th>Exposure</th>\n",
              "      <th>Size_of_child_at_birth</th>\n",
              "      <th>ANC</th>\n",
              "      <th>Birth_order</th>\n",
              "      <th>Respondent_place_of_residence</th>\n",
              "      <th>Wealth_index</th>\n",
              "      <th>Any_media_exposure</th>\n",
              "    </tr>\n",
              "  </thead>\n",
              "  <tbody>\n",
              "    <tr>\n",
              "      <th>0</th>\n",
              "      <td>2</td>\n",
              "      <td>2</td>\n",
              "      <td>1</td>\n",
              "      <td>2</td>\n",
              "      <td>1</td>\n",
              "      <td>1.0</td>\n",
              "      <td>0</td>\n",
              "      <td>1.0</td>\n",
              "      <td>0</td>\n",
              "      <td>2</td>\n",
              "      <td>2</td>\n",
              "      <td>1</td>\n",
              "      <td>0</td>\n",
              "    </tr>\n",
              "    <tr>\n",
              "      <th>1</th>\n",
              "      <td>2</td>\n",
              "      <td>2</td>\n",
              "      <td>1</td>\n",
              "      <td>2</td>\n",
              "      <td>1</td>\n",
              "      <td>1.0</td>\n",
              "      <td>0</td>\n",
              "      <td>1.0</td>\n",
              "      <td>0</td>\n",
              "      <td>1</td>\n",
              "      <td>2</td>\n",
              "      <td>1</td>\n",
              "      <td>0</td>\n",
              "    </tr>\n",
              "    <tr>\n",
              "      <th>2</th>\n",
              "      <td>0</td>\n",
              "      <td>2</td>\n",
              "      <td>2</td>\n",
              "      <td>2</td>\n",
              "      <td>1</td>\n",
              "      <td>2.0</td>\n",
              "      <td>0</td>\n",
              "      <td>2.0</td>\n",
              "      <td>0</td>\n",
              "      <td>2</td>\n",
              "      <td>2</td>\n",
              "      <td>1</td>\n",
              "      <td>0</td>\n",
              "    </tr>\n",
              "    <tr>\n",
              "      <th>3</th>\n",
              "      <td>0</td>\n",
              "      <td>2</td>\n",
              "      <td>2</td>\n",
              "      <td>2</td>\n",
              "      <td>1</td>\n",
              "      <td>2.0</td>\n",
              "      <td>0</td>\n",
              "      <td>3.0</td>\n",
              "      <td>0</td>\n",
              "      <td>1</td>\n",
              "      <td>2</td>\n",
              "      <td>1</td>\n",
              "      <td>0</td>\n",
              "    </tr>\n",
              "    <tr>\n",
              "      <th>4</th>\n",
              "      <td>2</td>\n",
              "      <td>1</td>\n",
              "      <td>1</td>\n",
              "      <td>1</td>\n",
              "      <td>1</td>\n",
              "      <td>1.0</td>\n",
              "      <td>2</td>\n",
              "      <td>2.0</td>\n",
              "      <td>0</td>\n",
              "      <td>1</td>\n",
              "      <td>2</td>\n",
              "      <td>1</td>\n",
              "      <td>1</td>\n",
              "    </tr>\n",
              "  </tbody>\n",
              "</table>\n",
              "</div>"
            ],
            "text/plain": [
              "   Educational_level  ...  Any_media_exposure\n",
              "0                  2  ...                   0\n",
              "1                  2  ...                   0\n",
              "2                  0  ...                   0\n",
              "3                  0  ...                   0\n",
              "4                  2  ...                   1\n",
              "\n",
              "[5 rows x 13 columns]"
            ]
          },
          "metadata": {
            "tags": []
          },
          "execution_count": 127
        }
      ]
    },
    {
      "cell_type": "code",
      "metadata": {
        "id": "sJMwXl6X9kA7",
        "colab": {
          "base_uri": "https://localhost:8080/",
          "height": 153
        },
        "outputId": "f7df4fe6-74ab-4a47-95d4-579190a7d260"
      },
      "source": [
        "rf_model1 = RandomForestClassifier(n_estimators = 500)\n",
        "sel = SelectFromModel(rf_model1, threshold=0.075)\n",
        "sel.fit(train_x1, train_y)\n",
        "rf_model1.fit(train_x1,train_y)"
      ],
      "execution_count": null,
      "outputs": [
        {
          "output_type": "execute_result",
          "data": {
            "text/plain": [
              "RandomForestClassifier(bootstrap=True, ccp_alpha=0.0, class_weight=None,\n",
              "                       criterion='gini', max_depth=None, max_features='auto',\n",
              "                       max_leaf_nodes=None, max_samples=None,\n",
              "                       min_impurity_decrease=0.0, min_impurity_split=None,\n",
              "                       min_samples_leaf=1, min_samples_split=2,\n",
              "                       min_weight_fraction_leaf=0.0, n_estimators=500,\n",
              "                       n_jobs=None, oob_score=False, random_state=None,\n",
              "                       verbose=0, warm_start=False)"
            ]
          },
          "metadata": {
            "tags": []
          },
          "execution_count": 128
        }
      ]
    },
    {
      "cell_type": "code",
      "metadata": {
        "id": "T_ukH7uz23V5",
        "colab": {
          "base_uri": "https://localhost:8080/",
          "height": 51
        },
        "outputId": "b9800c49-b85c-46c4-8df9-d2d2d03f1f3d"
      },
      "source": [
        "#To see which features are important we can use get_support method on the fitted model.\n",
        "\n",
        "sel.get_support()     #It will return an array of boolean values.\n",
        "                      #True for the features whose importance is greater than the mean importance and False for the rest."
      ],
      "execution_count": null,
      "outputs": [
        {
          "output_type": "execute_result",
          "data": {
            "text/plain": [
              "array([ True,  True,  True,  True,  True, False, False,  True, False,\n",
              "        True, False, False, False])"
            ]
          },
          "metadata": {
            "tags": []
          },
          "execution_count": 129
        }
      ]
    },
    {
      "cell_type": "code",
      "metadata": {
        "id": "ZjLABc6123Sn",
        "colab": {
          "base_uri": "https://localhost:8080/",
          "height": 34
        },
        "outputId": "050f4c2b-a101-4a74-85f4-5b11c1b10f81"
      },
      "source": [
        "selected_feat= train_x1.columns[(sel.get_support())]\n",
        "len(selected_feat)"
      ],
      "execution_count": null,
      "outputs": [
        {
          "output_type": "execute_result",
          "data": {
            "text/plain": [
              "7"
            ]
          },
          "metadata": {
            "tags": []
          },
          "execution_count": 130
        }
      ]
    },
    {
      "cell_type": "code",
      "metadata": {
        "id": "t4bZKyor23QO",
        "colab": {
          "base_uri": "https://localhost:8080/",
          "height": 85
        },
        "outputId": "7f5cf0fc-7b68-4c95-8db4-491f8ce1670e"
      },
      "source": [
        "selected_feat"
      ],
      "execution_count": null,
      "outputs": [
        {
          "output_type": "execute_result",
          "data": {
            "text/plain": [
              "Index(['Educational_level', 'Total_children_ever_born',\n",
              "       'Number_of_living_children', 'Births_in_last_five_years',\n",
              "       'Currently_breast_feeding', 'Size_of_child_at_birth', 'Birth_order'],\n",
              "      dtype='object')"
            ]
          },
          "metadata": {
            "tags": []
          },
          "execution_count": 131
        }
      ]
    },
    {
      "cell_type": "code",
      "metadata": {
        "id": "rPwjbz7NEHP3",
        "colab": {
          "base_uri": "https://localhost:8080/",
          "height": 68
        },
        "outputId": "605f54c5-6f5c-4c4e-aa7f-cd8e43fe694a"
      },
      "source": [
        "importances=rf_model1.feature_importances_\n",
        "importances"
      ],
      "execution_count": null,
      "outputs": [
        {
          "output_type": "execute_result",
          "data": {
            "text/plain": [
              "array([0.09264851, 0.07768243, 0.17577828, 0.09778195, 0.08057107,\n",
              "       0.05195003, 0.07592404, 0.08964051, 0.02261584, 0.09454734,\n",
              "       0.03368856, 0.06449339, 0.04267804])"
            ]
          },
          "metadata": {
            "tags": []
          },
          "execution_count": 132
        }
      ]
    },
    {
      "cell_type": "code",
      "metadata": {
        "id": "HlORu1fV6Mm6",
        "colab": {
          "base_uri": "https://localhost:8080/",
          "height": 282
        },
        "outputId": "04e8302a-1cbe-4dcb-96df-54a128283de1"
      },
      "source": [
        "feat_importances=pd.Series(importances,index=train_x1.columns)\n",
        "feat_importances.plot(kind='barh')"
      ],
      "execution_count": null,
      "outputs": [
        {
          "output_type": "execute_result",
          "data": {
            "text/plain": [
              "<matplotlib.axes._subplots.AxesSubplot at 0x7ff15906e208>"
            ]
          },
          "metadata": {
            "tags": []
          },
          "execution_count": 133
        },
        {
          "output_type": "display_data",
          "data": {
            "image/png": "[encoded data removed]",
            "text/plain": [
              "<Figure size 432x288 with 1 Axes>"
            ]
          },
          "metadata": {
            "tags": [],
            "needs_background": "light"
          }
        }
      ]
    },
    {
      "cell_type": "code",
      "metadata": {
        "id": "M6iEYVtti0H1",
        "colab": {
          "base_uri": "https://localhost:8080/",
          "height": 266
        },
        "outputId": "33a604a7-d287-4fdb-f159-5d45a310e6cc"
      },
      "source": [
        "df_features=pd.DataFrame(zip(selected_feat,importances))\n",
        "df_features.columns=['imp_features', 'values']\n",
        "df_features=df_features.sort_values('values', ascending=True)\n",
        "df_features"
      ],
      "execution_count": null,
      "outputs": [
        {
          "output_type": "execute_result",
          "data": {
            "text/html": [
              "<div>\n",
              "<style scoped>\n",
              "    .dataframe tbody tr th:only-of-type {\n",
              "        vertical-align: middle;\n",
              "    }\n",
              "\n",
              "    .dataframe tbody tr th {\n",
              "        vertical-align: top;\n",
              "    }\n",
              "\n",
              "    .dataframe thead th {\n",
              "        text-align: right;\n",
              "    }\n",
              "</style>\n",
              "<table border=\"1\" class=\"dataframe\">\n",
              "  <thead>\n",
              "    <tr style=\"text-align: right;\">\n",
              "      <th></th>\n",
              "      <th>imp_features</th>\n",
              "      <th>values</th>\n",
              "    </tr>\n",
              "  </thead>\n",
              "  <tbody>\n",
              "    <tr>\n",
              "      <th>5</th>\n",
              "      <td>Size_of_child_at_birth</td>\n",
              "      <td>0.051950</td>\n",
              "    </tr>\n",
              "    <tr>\n",
              "      <th>6</th>\n",
              "      <td>Birth_order</td>\n",
              "      <td>0.075924</td>\n",
              "    </tr>\n",
              "    <tr>\n",
              "      <th>1</th>\n",
              "      <td>Total_children_ever_born</td>\n",
              "      <td>0.077682</td>\n",
              "    </tr>\n",
              "    <tr>\n",
              "      <th>4</th>\n",
              "      <td>Currently_breast_feeding</td>\n",
              "      <td>0.080571</td>\n",
              "    </tr>\n",
              "    <tr>\n",
              "      <th>0</th>\n",
              "      <td>Educational_level</td>\n",
              "      <td>0.092649</td>\n",
              "    </tr>\n",
              "    <tr>\n",
              "      <th>3</th>\n",
              "      <td>Births_in_last_five_years</td>\n",
              "      <td>0.097782</td>\n",
              "    </tr>\n",
              "    <tr>\n",
              "      <th>2</th>\n",
              "      <td>Number_of_living_children</td>\n",
              "      <td>0.175778</td>\n",
              "    </tr>\n",
              "  </tbody>\n",
              "</table>\n",
              "</div>"
            ],
            "text/plain": [
              "                imp_features    values\n",
              "5     Size_of_child_at_birth  0.051950\n",
              "6                Birth_order  0.075924\n",
              "1   Total_children_ever_born  0.077682\n",
              "4   Currently_breast_feeding  0.080571\n",
              "0          Educational_level  0.092649\n",
              "3  Births_in_last_five_years  0.097782\n",
              "2  Number_of_living_children  0.175778"
            ]
          },
          "metadata": {
            "tags": []
          },
          "execution_count": 134
        }
      ]
    },
    {
      "cell_type": "code",
      "metadata": {
        "id": "NIWo77n9as9d",
        "colab": {
          "base_uri": "https://localhost:8080/",
          "height": 281
        },
        "outputId": "61976aa5-865c-4948-a2d1-89809cf04220"
      },
      "source": [
        "x = df_features['imp_features']\n",
        "y = round(df_features['values'],2)\n",
        "plt.barh(x, y)\n",
        "plt.title(\"Risk factors majorly responsible for under-5 child mortality\")\n",
        "\n",
        "for index, value in enumerate(y):\n",
        "    plt.text(value, index, str(value))\n"
      ],
      "execution_count": null,
      "outputs": [
        {
          "output_type": "display_data",
          "data": {
            "image/png": "[encoded data removed]",
            "text/plain": [
              "<Figure size 432x288 with 1 Axes>"
            ]
          },
          "metadata": {
            "tags": [],
            "needs_background": "light"
          }
        }
      ]
    },
    {
      "cell_type": "markdown",
      "metadata": {
        "id": "4B4Kt700j32b"
      },
      "source": [
        "## data analysis using 8 selected variables(imortant risk factors)"
      ]
    },
    {
      "cell_type": "code",
      "metadata": {
        "id": "9GJWbmhekIDP",
        "colab": {
          "base_uri": "https://localhost:8080/",
          "height": 136
        },
        "outputId": "8fc63f8b-cdc0-424a-f723-42cfe4538259"
      },
      "source": [
        "df1.columns"
      ],
      "execution_count": null,
      "outputs": [
        {
          "output_type": "execute_result",
          "data": {
            "text/plain": [
              "Index(['Educational_level', 'Total_children_ever_born',\n",
              "       'Number_of_living_children', 'Births_in_last_five_years',\n",
              "       'Currently_breast_feeding', 'Desire _for_more_children', 'Exposure',\n",
              "       'Size_of_child_at_birth', 'ANC', 'Birth_order',\n",
              "       'Respondent_place_of_residence', 'Wealth_index', 'Any_media_exposure',\n",
              "       'Time'],\n",
              "      dtype='object')"
            ]
          },
          "metadata": {
            "tags": []
          },
          "execution_count": 136
        }
      ]
    },
    {
      "cell_type": "code",
      "metadata": {
        "id": "E-1kobWWjME6"
      },
      "source": [
        "df2=df1.drop(['Desire _for_more_children','ANC','Respondent_place_of_residence','Wealth_index', 'Any_media_exposure','Time'], axis=1)\n"
      ],
      "execution_count": null,
      "outputs": []
    },
    {
      "cell_type": "code",
      "metadata": {
        "id": "l7q_B5CqjMVi",
        "colab": {
          "base_uri": "https://localhost:8080/",
          "height": 439
        },
        "outputId": "5470101a-666e-478a-c032-2eb93a756e1d"
      },
      "source": [
        "df2"
      ],
      "execution_count": null,
      "outputs": [
        {
          "output_type": "execute_result",
          "data": {
            "text/html": [
              "<div>\n",
              "<style scoped>\n",
              "    .dataframe tbody tr th:only-of-type {\n",
              "        vertical-align: middle;\n",
              "    }\n",
              "\n",
              "    .dataframe tbody tr th {\n",
              "        vertical-align: top;\n",
              "    }\n",
              "\n",
              "    .dataframe thead th {\n",
              "        text-align: right;\n",
              "    }\n",
              "</style>\n",
              "<table border=\"1\" class=\"dataframe\">\n",
              "  <thead>\n",
              "    <tr style=\"text-align: right;\">\n",
              "      <th></th>\n",
              "      <th>Educational_level</th>\n",
              "      <th>Total_children_ever_born</th>\n",
              "      <th>Number_of_living_children</th>\n",
              "      <th>Births_in_last_five_years</th>\n",
              "      <th>Currently_breast_feeding</th>\n",
              "      <th>Exposure</th>\n",
              "      <th>Size_of_child_at_birth</th>\n",
              "      <th>Birth_order</th>\n",
              "    </tr>\n",
              "  </thead>\n",
              "  <tbody>\n",
              "    <tr>\n",
              "      <th>0</th>\n",
              "      <td>2</td>\n",
              "      <td>2</td>\n",
              "      <td>1</td>\n",
              "      <td>2</td>\n",
              "      <td>1</td>\n",
              "      <td>0</td>\n",
              "      <td>1.0</td>\n",
              "      <td>2</td>\n",
              "    </tr>\n",
              "    <tr>\n",
              "      <th>1</th>\n",
              "      <td>2</td>\n",
              "      <td>2</td>\n",
              "      <td>1</td>\n",
              "      <td>2</td>\n",
              "      <td>1</td>\n",
              "      <td>0</td>\n",
              "      <td>1.0</td>\n",
              "      <td>1</td>\n",
              "    </tr>\n",
              "    <tr>\n",
              "      <th>2</th>\n",
              "      <td>0</td>\n",
              "      <td>2</td>\n",
              "      <td>2</td>\n",
              "      <td>2</td>\n",
              "      <td>1</td>\n",
              "      <td>0</td>\n",
              "      <td>2.0</td>\n",
              "      <td>2</td>\n",
              "    </tr>\n",
              "    <tr>\n",
              "      <th>3</th>\n",
              "      <td>0</td>\n",
              "      <td>2</td>\n",
              "      <td>2</td>\n",
              "      <td>2</td>\n",
              "      <td>1</td>\n",
              "      <td>0</td>\n",
              "      <td>3.0</td>\n",
              "      <td>1</td>\n",
              "    </tr>\n",
              "    <tr>\n",
              "      <th>4</th>\n",
              "      <td>2</td>\n",
              "      <td>1</td>\n",
              "      <td>1</td>\n",
              "      <td>1</td>\n",
              "      <td>1</td>\n",
              "      <td>2</td>\n",
              "      <td>2.0</td>\n",
              "      <td>1</td>\n",
              "    </tr>\n",
              "    <tr>\n",
              "      <th>...</th>\n",
              "      <td>...</td>\n",
              "      <td>...</td>\n",
              "      <td>...</td>\n",
              "      <td>...</td>\n",
              "      <td>...</td>\n",
              "      <td>...</td>\n",
              "      <td>...</td>\n",
              "      <td>...</td>\n",
              "    </tr>\n",
              "    <tr>\n",
              "      <th>41746</th>\n",
              "      <td>2</td>\n",
              "      <td>1</td>\n",
              "      <td>1</td>\n",
              "      <td>1</td>\n",
              "      <td>0</td>\n",
              "      <td>2</td>\n",
              "      <td>2.0</td>\n",
              "      <td>1</td>\n",
              "    </tr>\n",
              "    <tr>\n",
              "      <th>41747</th>\n",
              "      <td>2</td>\n",
              "      <td>2</td>\n",
              "      <td>2</td>\n",
              "      <td>1</td>\n",
              "      <td>1</td>\n",
              "      <td>0</td>\n",
              "      <td>3.0</td>\n",
              "      <td>2</td>\n",
              "    </tr>\n",
              "    <tr>\n",
              "      <th>41748</th>\n",
              "      <td>3</td>\n",
              "      <td>1</td>\n",
              "      <td>1</td>\n",
              "      <td>1</td>\n",
              "      <td>1</td>\n",
              "      <td>0</td>\n",
              "      <td>2.0</td>\n",
              "      <td>1</td>\n",
              "    </tr>\n",
              "    <tr>\n",
              "      <th>41749</th>\n",
              "      <td>1</td>\n",
              "      <td>2</td>\n",
              "      <td>2</td>\n",
              "      <td>2</td>\n",
              "      <td>1</td>\n",
              "      <td>2</td>\n",
              "      <td>2.0</td>\n",
              "      <td>2</td>\n",
              "    </tr>\n",
              "    <tr>\n",
              "      <th>41750</th>\n",
              "      <td>1</td>\n",
              "      <td>2</td>\n",
              "      <td>2</td>\n",
              "      <td>2</td>\n",
              "      <td>1</td>\n",
              "      <td>2</td>\n",
              "      <td>2.0</td>\n",
              "      <td>1</td>\n",
              "    </tr>\n",
              "  </tbody>\n",
              "</table>\n",
              "<p>41751 rows × 8 columns</p>\n",
              "</div>"
            ],
            "text/plain": [
              "       Educational_level  ...  Birth_order\n",
              "0                      2  ...            2\n",
              "1                      2  ...            1\n",
              "2                      0  ...            2\n",
              "3                      0  ...            1\n",
              "4                      2  ...            1\n",
              "...                  ...  ...          ...\n",
              "41746                  2  ...            1\n",
              "41747                  2  ...            2\n",
              "41748                  3  ...            1\n",
              "41749                  1  ...            2\n",
              "41750                  1  ...            1\n",
              "\n",
              "[41751 rows x 8 columns]"
            ]
          },
          "metadata": {
            "tags": []
          },
          "execution_count": 138
        }
      ]
    },
    {
      "cell_type": "code",
      "metadata": {
        "id": "BF2VUFRejMiF",
        "colab": {
          "base_uri": "https://localhost:8080/",
          "height": 170
        },
        "outputId": "81f7777f-3c9f-4cff-ea67-6ded2bf65334"
      },
      "source": [
        "# training data\n",
        "train_x2=df2.iloc[0:30000,:]\n",
        "print(train_x2.head())\n",
        "print(train_x2.shape)"
      ],
      "execution_count": null,
      "outputs": [
        {
          "output_type": "stream",
          "text": [
            "   Educational_level  ...  Birth_order\n",
            "0                  2  ...            2\n",
            "1                  2  ...            1\n",
            "2                  0  ...            2\n",
            "3                  0  ...            1\n",
            "4                  2  ...            1\n",
            "\n",
            "[5 rows x 8 columns]\n",
            "(30000, 8)\n"
          ],
          "name": "stdout"
        }
      ]
    },
    {
      "cell_type": "code",
      "metadata": {
        "id": "VhinT0GUjMfq",
        "colab": {
          "base_uri": "https://localhost:8080/",
          "height": 255
        },
        "outputId": "de2d0f06-c659-4fe7-d90c-d6225b239eee"
      },
      "source": [
        "train_y2=survival[0:30000]\n",
        "print(train_y2.head())\n",
        "print(train_y2.shape)\n",
        "\n",
        "# converting the values into binary form\n",
        "from sklearn.preprocessing import LabelBinarizer\n",
        "encoder=LabelBinarizer()\n",
        "train_y2_encoded=encoder.fit_transform(train_y2)\n",
        "train_y2_encoded"
      ],
      "execution_count": null,
      "outputs": [
        {
          "output_type": "stream",
          "text": [
            "0    1\n",
            "1    0\n",
            "2    1\n",
            "3    1\n",
            "4    1\n",
            "Name: Child_status, dtype: int64\n",
            "(30000,)\n"
          ],
          "name": "stdout"
        },
        {
          "output_type": "execute_result",
          "data": {
            "text/plain": [
              "array([[1],\n",
              "       [0],\n",
              "       [1],\n",
              "       ...,\n",
              "       [1],\n",
              "       [1],\n",
              "       [0]])"
            ]
          },
          "metadata": {
            "tags": []
          },
          "execution_count": 140
        }
      ]
    },
    {
      "cell_type": "code",
      "metadata": {
        "id": "a18GKzmOjMdv",
        "colab": {
          "base_uri": "https://localhost:8080/",
          "height": 170
        },
        "outputId": "b0dafec2-15ae-43d8-91df-dfe12a97c866"
      },
      "source": [
        "# test data\n",
        "test_x2=df2.iloc[30000 :,:]\n",
        "print(test_x2.head())\n",
        "print(test_x2.shape)"
      ],
      "execution_count": null,
      "outputs": [
        {
          "output_type": "stream",
          "text": [
            "       Educational_level  ...  Birth_order\n",
            "30000                  0  ...            1\n",
            "30001                  3  ...            2\n",
            "30002                  3  ...            2\n",
            "30003                  0  ...            2\n",
            "30004                  0  ...            1\n",
            "\n",
            "[5 rows x 8 columns]\n",
            "(11751, 8)\n"
          ],
          "name": "stdout"
        }
      ]
    },
    {
      "cell_type": "code",
      "metadata": {
        "id": "Zsc5ibRFjMTV",
        "colab": {
          "base_uri": "https://localhost:8080/",
          "height": 255
        },
        "outputId": "2c566283-61b1-4c59-e8f0-18ffc51f7045"
      },
      "source": [
        "test_y2=survival[30000:]\n",
        "print(test_y2.head())\n",
        "print(test_y2.shape)\n",
        "\n",
        "# converting the values into binary form\n",
        "from sklearn.preprocessing import LabelBinarizer\n",
        "encoder=LabelBinarizer()\n",
        "test_y2_encoded=encoder.fit_transform(test_y2)\n",
        "test_y2_encoded"
      ],
      "execution_count": null,
      "outputs": [
        {
          "output_type": "stream",
          "text": [
            "30000    1\n",
            "30001    1\n",
            "30002    1\n",
            "30003    1\n",
            "30004    1\n",
            "Name: Child_status, dtype: int64\n",
            "(11751,)\n"
          ],
          "name": "stdout"
        },
        {
          "output_type": "execute_result",
          "data": {
            "text/plain": [
              "array([[1],\n",
              "       [1],\n",
              "       [1],\n",
              "       ...,\n",
              "       [1],\n",
              "       [1],\n",
              "       [1]])"
            ]
          },
          "metadata": {
            "tags": []
          },
          "execution_count": 142
        }
      ]
    },
    {
      "cell_type": "code",
      "metadata": {
        "id": "l_5RzipRkBur",
        "colab": {
          "base_uri": "https://localhost:8080/",
          "height": 119
        },
        "outputId": "ede289b7-21fd-45de-bbed-2845dd533d56"
      },
      "source": [
        "# decision tree\n",
        "\n",
        "from sklearn.tree import DecisionTreeClassifier   # from sklearn importing decision tree model\n",
        "dt_model = DecisionTreeClassifier(max_depth =6,\n",
        "                             random_state = 0)    # initializing a model with maximum depth of tree as 6\n",
        "\n",
        "dt_model.fit(np.array(train_x2),train_y2_encoded)   # fit or train the model with traing data(x and y)"
      ],
      "execution_count": null,
      "outputs": [
        {
          "output_type": "execute_result",
          "data": {
            "text/plain": [
              "DecisionTreeClassifier(ccp_alpha=0.0, class_weight=None, criterion='gini',\n",
              "                       max_depth=6, max_features=None, max_leaf_nodes=None,\n",
              "                       min_impurity_decrease=0.0, min_impurity_split=None,\n",
              "                       min_samples_leaf=1, min_samples_split=2,\n",
              "                       min_weight_fraction_leaf=0.0, presort='deprecated',\n",
              "                       random_state=0, splitter='best')"
            ]
          },
          "metadata": {
            "tags": []
          },
          "execution_count": 143
        }
      ]
    },
    {
      "cell_type": "code",
      "metadata": {
        "id": "Bx6Hhk8UkB67",
        "colab": {
          "base_uri": "https://localhost:8080/",
          "height": 34
        },
        "outputId": "f9779318-be72-4535-a0cf-85ea38066835"
      },
      "source": [
        "y2_pred_dt=dt_model.predict(test_x2)  # predict y values for testing data\n",
        "y2_pred_dt"
      ],
      "execution_count": null,
      "outputs": [
        {
          "output_type": "execute_result",
          "data": {
            "text/plain": [
              "array([1, 1, 1, ..., 1, 1, 1])"
            ]
          },
          "metadata": {
            "tags": []
          },
          "execution_count": 144
        }
      ]
    },
    {
      "cell_type": "code",
      "metadata": {
        "id": "fLAhG-aJkCCV",
        "colab": {
          "base_uri": "https://localhost:8080/",
          "height": 34
        },
        "outputId": "53c42caa-a2de-4bb8-b2dd-19b6b016e356"
      },
      "source": [
        "from sklearn import metrics #Import scikit-learn metrics module for accuracy calculation\n",
        "accuracy_1_2= metrics.accuracy_score(test_y2, y2_pred_dt)\n",
        "print(\"Accuracy of model : \",+ accuracy_1_2)"
      ],
      "execution_count": null,
      "outputs": [
        {
          "output_type": "stream",
          "text": [
            "Accuracy of model :  0.9451961535188494\n"
          ],
          "name": "stdout"
        }
      ]
    },
    {
      "cell_type": "code",
      "metadata": {
        "id": "y7qyp1qJlTBx",
        "colab": {
          "base_uri": "https://localhost:8080/",
          "height": 139
        },
        "outputId": "9e0634b7-6774-4bb5-d23a-c47ab2713f0c"
      },
      "source": [
        "# support vector machine\n",
        "#Import svm model\n",
        "from sklearn import svm\n",
        "\n",
        "#Create a svm Classifier\n",
        "svm_model = svm.SVC(kernel='linear') # Linear Kernel\n",
        "\n",
        "svm_model.fit(train_x2, train_y2_encoded)  # fit the model\n"
      ],
      "execution_count": null,
      "outputs": [
        {
          "output_type": "stream",
          "text": [
            "/usr/local/lib/python3.6/dist-packages/sklearn/utils/validation.py:760: DataConversionWarning: A column-vector y was passed when a 1d array was expected. Please change the shape of y to (n_samples, ), for example using ravel().\n",
            "  y = column_or_1d(y, warn=True)\n"
          ],
          "name": "stderr"
        },
        {
          "output_type": "execute_result",
          "data": {
            "text/plain": [
              "SVC(C=1.0, break_ties=False, cache_size=200, class_weight=None, coef0=0.0,\n",
              "    decision_function_shape='ovr', degree=3, gamma='scale', kernel='linear',\n",
              "    max_iter=-1, probability=False, random_state=None, shrinking=True,\n",
              "    tol=0.001, verbose=False)"
            ]
          },
          "metadata": {
            "tags": []
          },
          "execution_count": 146
        }
      ]
    },
    {
      "cell_type": "code",
      "metadata": {
        "id": "-kCw0QsSlTTG",
        "colab": {
          "base_uri": "https://localhost:8080/",
          "height": 34
        },
        "outputId": "ef5a2529-7d7f-49b8-9e0c-268609653cfc"
      },
      "source": [
        "y2_pred_svm=svm_model.predict(test_x2)  # predicted values for test data\n",
        "y2_pred_svm"
      ],
      "execution_count": null,
      "outputs": [
        {
          "output_type": "execute_result",
          "data": {
            "text/plain": [
              "array([1, 1, 1, ..., 1, 1, 1])"
            ]
          },
          "metadata": {
            "tags": []
          },
          "execution_count": 147
        }
      ]
    },
    {
      "cell_type": "code",
      "metadata": {
        "id": "XvwZwcoelTic",
        "colab": {
          "base_uri": "https://localhost:8080/",
          "height": 34
        },
        "outputId": "f8ced7e7-41b9-436b-9b53-570d5fbca1a8"
      },
      "source": [
        "from sklearn import metrics #Import scikit-learn metrics module for accuracy calculation\n",
        "accuracy_2_2=metrics.accuracy_score(test_y2_encoded,y2_pred_svm)\n",
        "print(\"Accuracy of model : \",+ accuracy_2_2 )  # accuracy based on predictions"
      ],
      "execution_count": null,
      "outputs": [
        {
          "output_type": "stream",
          "text": [
            "Accuracy of model :  0.9321759850225513\n"
          ],
          "name": "stdout"
        }
      ]
    },
    {
      "cell_type": "code",
      "metadata": {
        "id": "MQlaypVHlTfp",
        "colab": {
          "base_uri": "https://localhost:8080/",
          "height": 207
        },
        "outputId": "39c5b8af-3c05-47f3-ab36-56d4387ed00e"
      },
      "source": [
        "# random forest\n",
        "\n",
        "# Import the model\n",
        "from sklearn.ensemble import RandomForestClassifier\n",
        "\n",
        "# Instantiate model with 500 decision trees\n",
        "rf_model = RandomForestClassifier(n_estimators = 500, random_state = 42)\n",
        "\n",
        "# Train the model on training data\n",
        "rf_model.fit(train_x2, train_y2_encoded)"
      ],
      "execution_count": null,
      "outputs": [
        {
          "output_type": "stream",
          "text": [
            "/usr/local/lib/python3.6/dist-packages/ipykernel_launcher.py:10: DataConversionWarning: A column-vector y was passed when a 1d array was expected. Please change the shape of y to (n_samples,), for example using ravel().\n",
            "  # Remove the CWD from sys.path while we load stuff.\n"
          ],
          "name": "stderr"
        },
        {
          "output_type": "execute_result",
          "data": {
            "text/plain": [
              "RandomForestClassifier(bootstrap=True, ccp_alpha=0.0, class_weight=None,\n",
              "                       criterion='gini', max_depth=None, max_features='auto',\n",
              "                       max_leaf_nodes=None, max_samples=None,\n",
              "                       min_impurity_decrease=0.0, min_impurity_split=None,\n",
              "                       min_samples_leaf=1, min_samples_split=2,\n",
              "                       min_weight_fraction_leaf=0.0, n_estimators=500,\n",
              "                       n_jobs=None, oob_score=False, random_state=42, verbose=0,\n",
              "                       warm_start=False)"
            ]
          },
          "metadata": {
            "tags": []
          },
          "execution_count": 149
        }
      ]
    },
    {
      "cell_type": "code",
      "metadata": {
        "id": "1dXihCmJlTdf",
        "colab": {
          "base_uri": "https://localhost:8080/",
          "height": 34
        },
        "outputId": "f1575e54-1667-48b5-ad0d-5fab841dac39"
      },
      "source": [
        "y2_pred_rf=rf_model.predict(test_x2)\n",
        "y2_pred_rf"
      ],
      "execution_count": null,
      "outputs": [
        {
          "output_type": "execute_result",
          "data": {
            "text/plain": [
              "array([1, 1, 1, ..., 1, 1, 1])"
            ]
          },
          "metadata": {
            "tags": []
          },
          "execution_count": 150
        }
      ]
    },
    {
      "cell_type": "code",
      "metadata": {
        "id": "vB3KdC8KmtLj",
        "colab": {
          "base_uri": "https://localhost:8080/",
          "height": 34
        },
        "outputId": "64a0d585-fc2d-4e30-e423-8a02eda1ce27"
      },
      "source": [
        "from sklearn import metrics\n",
        "accuracy_3_2=metrics.accuracy_score(test_y2_encoded, y2_pred_rf)\n",
        "accuracy_3_2"
      ],
      "execution_count": null,
      "outputs": [
        {
          "output_type": "execute_result",
          "data": {
            "text/plain": [
              "0.9453663517998468"
            ]
          },
          "metadata": {
            "tags": []
          },
          "execution_count": 151
        }
      ]
    },
    {
      "cell_type": "code",
      "metadata": {
        "id": "gi61LdNYmtcG",
        "colab": {
          "base_uri": "https://localhost:8080/",
          "height": 156
        },
        "outputId": "5995d528-86f0-490a-917b-0afa5d589f43"
      },
      "source": [
        "# logistic regression\n",
        "\n",
        "from sklearn.linear_model import LogisticRegression\n",
        "Lr_model=LogisticRegression(random_state=0)\n",
        "\n",
        "Lr_model.fit(train_x2, train_y2_encoded)"
      ],
      "execution_count": null,
      "outputs": [
        {
          "output_type": "stream",
          "text": [
            "/usr/local/lib/python3.6/dist-packages/sklearn/utils/validation.py:760: DataConversionWarning: A column-vector y was passed when a 1d array was expected. Please change the shape of y to (n_samples, ), for example using ravel().\n",
            "  y = column_or_1d(y, warn=True)\n"
          ],
          "name": "stderr"
        },
        {
          "output_type": "execute_result",
          "data": {
            "text/plain": [
              "LogisticRegression(C=1.0, class_weight=None, dual=False, fit_intercept=True,\n",
              "                   intercept_scaling=1, l1_ratio=None, max_iter=100,\n",
              "                   multi_class='auto', n_jobs=None, penalty='l2',\n",
              "                   random_state=0, solver='lbfgs', tol=0.0001, verbose=0,\n",
              "                   warm_start=False)"
            ]
          },
          "metadata": {
            "tags": []
          },
          "execution_count": 152
        }
      ]
    },
    {
      "cell_type": "code",
      "metadata": {
        "id": "Xap1P8ULnPxG",
        "colab": {
          "base_uri": "https://localhost:8080/",
          "height": 34
        },
        "outputId": "0f1ed369-a348-40fd-bcaa-6100120a0163"
      },
      "source": [
        "y2_pred_Lr=Lr_model.predict(test_x2)\n",
        "y2_pred_Lr"
      ],
      "execution_count": null,
      "outputs": [
        {
          "output_type": "execute_result",
          "data": {
            "text/plain": [
              "array([1, 1, 1, ..., 1, 1, 1])"
            ]
          },
          "metadata": {
            "tags": []
          },
          "execution_count": 153
        }
      ]
    },
    {
      "cell_type": "code",
      "metadata": {
        "id": "GLf6q56MnP-g",
        "colab": {
          "base_uri": "https://localhost:8080/",
          "height": 34
        },
        "outputId": "1419e87c-3ad0-4fd2-ac0e-30525ccc6e84"
      },
      "source": [
        "from sklearn import metrics\n",
        "accuracy_4_2=metrics.accuracy_score(test_y2_encoded, y2_pred_Lr)\n",
        "accuracy_4_2"
      ],
      "execution_count": null,
      "outputs": [
        {
          "output_type": "execute_result",
          "data": {
            "text/plain": [
              "0.9366011403284826"
            ]
          },
          "metadata": {
            "tags": []
          },
          "execution_count": 154
        }
      ]
    },
    {
      "cell_type": "code",
      "metadata": {
        "id": "pTd4Nj_-nQJk",
        "colab": {
          "base_uri": "https://localhost:8080/",
          "height": 363
        },
        "outputId": "90d451f8-17b3-4d32-caec-66e4cccdb520"
      },
      "source": [
        "# claculate AUROC area under ROC curve\n",
        "\n",
        "from sklearn.metrics import roc_curve, roc_auc_score\n",
        "\n",
        "dt_auc_2 = roc_auc_score(test_y2, y2_pred_dt)\n",
        "rf_auc_2 = roc_auc_score(test_y2, y2_pred_rf)\n",
        "svm_auc_2 = roc_auc_score(test_y2, y2_pred_svm)\n",
        "Lr_auc_2 = roc_auc_score(test_y2, y2_pred_Lr)\n",
        "\n",
        "\n",
        "# print ROC score\n",
        "print('Decision Tree : AUROC = %.3f' % (dt_auc_2))\n",
        "print('Random Forest: AUROC = %.3f' % (rf_auc_2))\n",
        "print('Support Vector Machine: AUROC = %.3f' % (svm_auc_2))\n",
        "print('Logistic Regression: AUROC = %.3f' % (Lr_auc_2))\n",
        "\n",
        "\n",
        "# calculate ROC Curve\n",
        "\n",
        "dt_fpr, dt_tpr, _ = roc_curve(test_y2, y2_pred_dt)\n",
        "rf_fpr, rf_tpr, _ = roc_curve(test_y2, y2_pred_rf)\n",
        "svm_fpr, svm_tpr, _ = roc_curve(test_y2, y2_pred_svm)\n",
        "Lr_fpr, Lr_tpr, _ = roc_curve(test_y2, y2_pred_Lr)\n",
        "\n",
        "\n",
        "# plot ROC curve\n",
        "\n",
        "plt.plot(rf_fpr, rf_tpr, marker='.', label='Random Forest (AUROC = %0.3f)' % rf_auc_2)\n",
        "plt.plot(dt_fpr, dt_tpr, marker='.', label='Decision Tree (AUROC = %0.3f)' % dt_auc_2)\n",
        "plt.plot(svm_fpr, svm_tpr, marker='.', label='Support Vector Machine (AUROC = %0.3f)' % svm_auc_2)\n",
        "plt.plot(Lr_fpr, Lr_tpr, marker='.', label='Logistic Regression (AUROC = %0.3f)' % Lr_auc_2)\n",
        "\n",
        "\n",
        "plt.title('ROC Plot')\n",
        "plt.xlabel('False Positive Rate')\n",
        "plt.ylabel('True Positive Rate')\n",
        "plt.legend()\n",
        "\n",
        "plt.show()"
      ],
      "execution_count": null,
      "outputs": [
        {
          "output_type": "stream",
          "text": [
            "Decision Tree : AUROC = 0.669\n",
            "Random Forest: AUROC = 0.655\n",
            "Support Vector Machine: AUROC = 0.500\n",
            "Logistic Regression: AUROC = 0.607\n"
          ],
          "name": "stdout"
        },
        {
          "output_type": "display_data",
          "data": {
            "image/png": "[encoded data removed]",
            "text/plain": [
              "<Figure size 432x288 with 1 Axes>"
            ]
          },
          "metadata": {
            "tags": [],
            "needs_background": "light"
          }
        }
      ]
    },
    {
      "cell_type": "code",
      "metadata": {
        "id": "zOa8YKmOnQGS",
        "colab": {
          "base_uri": "https://localhost:8080/",
          "height": 989
        },
        "outputId": "4116e7ba-34f5-4373-a9bb-c5e9e508a2e2"
      },
      "source": [
        "# confusion matrix evaluate the performance of the model\n",
        "from sklearn.metrics import confusion_matrix\n",
        "cm_1_2=confusion_matrix(test_y2_encoded, y2_pred_dt)\n",
        "cm_2_2=confusion_matrix(test_y2_encoded, y2_pred_svm)\n",
        "cm_3_2=confusion_matrix(test_y2_encoded, y2_pred_rf)\n",
        "cm_4_2=confusion_matrix(test_y2_encoded, y2_pred_Lr)\n",
        "\n",
        "\n",
        "import seaborn as sns\n",
        "import matplotlib.pyplot as plt\n",
        "plt.figure(figsize=(4,4))\n",
        "sns.heatmap(cm_1_2, annot=True, fmt=\".3f\", linewidths=.5, square = True, cmap = 'Blues_r');\n",
        "plt.ylabel('Actual label');\n",
        "plt.xlabel('Predicted label');\n",
        "plt.title('Decision Tree', size = 15);\n",
        "\n",
        "\n",
        "plt.figure(figsize=(4,4))\n",
        "sns.heatmap(cm_2_2, annot=True, fmt=\".3f\", linewidths=.5, square = True, cmap = 'BrBG');\n",
        "plt.ylabel('Actual label');\n",
        "plt.xlabel('Predicted label');\n",
        "plt.title('Support Vector Machine', size = 15);\n",
        "\n",
        "\n",
        "plt.figure(figsize=(4,4))\n",
        "sns.heatmap(cm_3_2, annot=True, fmt=\".3f\", linewidths=.5, square = True, cmap = 'Accent');\n",
        "plt.ylabel('Actual label');\n",
        "plt.xlabel('Predicted label');\n",
        "plt.title('Random Forest', size = 15);\n",
        "\n",
        "\n",
        "plt.figure(figsize=(4,4))\n",
        "sns.heatmap(cm_4_2, annot=True, fmt=\".3f\", linewidths=.5, square = True, cmap = 'Accent');\n",
        "plt.ylabel('Actual label');\n",
        "plt.xlabel('Predicted label');\n",
        "plt.title('Logistic Regression', size = 15);\n",
        "\n",
        "\n"
      ],
      "execution_count": null,
      "outputs": [
        {
          "output_type": "display_data",
          "data": {
            "image/png": "[encoded data removed]",
            "text/plain": [
              "<Figure size 288x288 with 2 Axes>"
            ]
          },
          "metadata": {
            "tags": [],
            "needs_background": "light"
          }
        },
        {
          "output_type": "display_data",
          "data": {
            "image/png": "[encoded data removed]",
            "text/plain": [
              "<Figure size 288x288 with 2 Axes>"
            ]
          },
          "metadata": {
            "tags": [],
            "needs_background": "light"
          }
        },
        {
          "output_type": "display_data",
          "data": {
            "image/png": "[encoded data removed]",
            "text/plain": [
              "<Figure size 288x288 with 2 Axes>"
            ]
          },
          "metadata": {
            "tags": [],
            "needs_background": "light"
          }
        },
        {
          "output_type": "display_data",
          "data": {
            "image/png": "[encoded data removed]",
            "text/plain": [
              "<Figure size 288x288 with 2 Axes>"
            ]
          },
          "metadata": {
            "tags": [],
            "needs_background": "light"
          }
        }
      ]
    },
    {
      "cell_type": "code",
      "metadata": {
        "id": "l2bde6t8nQEF",
        "colab": {
          "base_uri": "https://localhost:8080/",
          "height": 85
        },
        "outputId": "a8ca27f7-6507-48d9-d49b-5b4c6f28668e"
      },
      "source": [
        "# accuracy  = number of correct predictions/ total number of prediction =TN+TP/total\n",
        "\n",
        "# decision tree\n",
        "accu_1_2=(279+10828)/(279+518+126+10828)\n",
        "print(\"Accuracy of decision tree model : \", round(accu_1_2,3))\n",
        "\n",
        "# svm\n",
        "accu_2_2=(0+10954)/(0+797+0+10954)\n",
        "print(\"Accuracy of svm  model : \", round(accu_2_2,3))\n",
        "\n",
        "# random forest\n",
        "accu_3_2=(305+10767)/(254+543+99+10855)\n",
        "print(\"Accuracy of random forest model : \", round(accu_3_2,3))\n",
        "\n",
        "# Logistic Regression\n",
        "accu_4_2=(180+10826)/(180+617+128+10826)\n",
        "print(\"Accuracy of Logistic regression model : \", round(accu_4_2,3))\n",
        "\n",
        "\n"
      ],
      "execution_count": null,
      "outputs": [
        {
          "output_type": "stream",
          "text": [
            "Accuracy of decision tree model :  0.945\n",
            "Accuracy of svm  model :  0.932\n",
            "Accuracy of random forest model :  0.942\n",
            "Accuracy of Logistic regression model :  0.937\n"
          ],
          "name": "stdout"
        }
      ]
    },
    {
      "cell_type": "code",
      "metadata": {
        "id": "0dqa_XW8nP8I",
        "colab": {
          "base_uri": "https://localhost:8080/",
          "height": 85
        },
        "outputId": "294ab364-bfd0-461a-c342-c668843d61f1"
      },
      "source": [
        "# precision = TP/TP+FP (positive outcome)\n",
        "\n",
        "pre_1_2=10828/(10828+518)\n",
        "print(\" Precision of decion tree : \", round(pre_1_2, 4))\n",
        "\n",
        "pre_2_2=10954/(10954+797)\n",
        "print(\" Precision of svm : \", round(pre_2_2, 4))\n",
        "\n",
        "pre_3_2=10855/(10855+543)\n",
        "print(\" Precision of random forest : \", round(pre_3_2, 4))\n",
        "\n",
        "pre_4_2=10826/(10826+617)\n",
        "print(\" Precision of logistic regression : \", round(pre_3_2, 4))\n"
      ],
      "execution_count": null,
      "outputs": [
        {
          "output_type": "stream",
          "text": [
            " Precision of decion tree :  0.9543\n",
            " Precision of svm :  0.9322\n",
            " Precision of random forest :  0.9524\n",
            " Precision of logistic regression :  0.9524\n"
          ],
          "name": "stdout"
        }
      ]
    },
    {
      "cell_type": "code",
      "metadata": {
        "id": "e2HCy5seprwF",
        "colab": {
          "base_uri": "https://localhost:8080/",
          "height": 85
        },
        "outputId": "f871ec36-b2be-4801-a28e-c6b7370de589"
      },
      "source": [
        "# recall = TP/TP+FN\n",
        "\n",
        "re_1_2=10828/(10828+126)\n",
        "print(\" Recall of decion tree : \", round(re_1_2, 4))\n",
        "\n",
        "re_2_2=10954/(10954+0)\n",
        "print(\" Recall of svm : \", round(re_2_2, 4))\n",
        "\n",
        "re_3_2=10855/(10855+99)\n",
        "print(\" Recall of random forest : \", round(re_3_2, 4))\n",
        "\n",
        "re_4_2=10826/(10826+128)\n",
        "print(\" Recall of logistic regression : \", round(re_3_2, 4))\n",
        "\n",
        "\n"
      ],
      "execution_count": null,
      "outputs": [
        {
          "output_type": "stream",
          "text": [
            " Recall of decion tree :  0.9885\n",
            " Recall of svm :  1.0\n",
            " Recall of random forest :  0.991\n",
            " Recall of logistic regression :  0.991\n"
          ],
          "name": "stdout"
        }
      ]
    },
    {
      "cell_type": "code",
      "metadata": {
        "id": "GCndPVHTtJkr",
        "colab": {
          "base_uri": "https://localhost:8080/",
          "height": 85
        },
        "outputId": "af1cacb0-fd6b-44e0-8ad5-fc117f20b453"
      },
      "source": [
        "# F1 score = 2* (Precesion*recall)/(precision+recall)\n",
        "\n",
        "f1score_1_2 = 2*(pre_1_2 * re_1_2)/(pre_1_2 + re_1_2)\n",
        "print(\" F1 score of decision tree : \", round(f1score_1_2,4))\n",
        "\n",
        "f1score_2_2 = 2*(pre_2_2 * re_2_2)/(pre_2_2 + re_2_2)\n",
        "print(\" F1 score of svm  : \", round(f1score_2_2,4))\n",
        "\n",
        "f1score_3_2 = 2*(pre_3_2 * re_3_2)/(pre_3_2 + re_1_2)\n",
        "print(\" F1 score of random forest : \", round(f1score_3_2,4))\n",
        "\n",
        "f1score_4_2 = 2*(pre_4_2 * re_4_2)/(pre_4_2 + re_1_2)\n",
        "print(\" F1 score of logistic regression : \", round(f1score_4_2,4))"
      ],
      "execution_count": null,
      "outputs": [
        {
          "output_type": "stream",
          "text": [
            " F1 score of decision tree :  0.9711\n",
            " F1 score of svm  :  0.9649\n",
            " F1 score of random forest :  0.9725\n",
            " F1 score of logistic regression :  0.9666\n"
          ],
          "name": "stdout"
        }
      ]
    },
    {
      "cell_type": "code",
      "metadata": {
        "id": "RTXgCp-4tJ4I"
      },
      "source": [],
      "execution_count": null,
      "outputs": []
    }
  ]
}